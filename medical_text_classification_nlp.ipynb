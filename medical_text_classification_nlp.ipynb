{
 "cells": [
  {
   "cell_type": "code",
   "execution_count": 1,
   "metadata": {
    "id": "qk-0EEIwkHm6"
   },
   "outputs": [],
   "source": [
    "import numpy as np\n",
    "import pandas as pd\n",
    "import matplotlib.pyplot as plt"
   ]
  },
  {
   "cell_type": "code",
   "execution_count": 4,
   "metadata": {
    "colab": {
     "base_uri": "https://localhost:8080/"
    },
    "id": "6Nu3VLTduSmz",
    "outputId": "d86f963f-ee73-4adf-9de5-9e55dfec24ed"
   },
   "outputs": [
    {
     "name": "stderr",
     "output_type": "stream",
     "text": [
      "[nltk_data] Downloading package stopwords to /root/nltk_data...\n",
      "[nltk_data]   Package stopwords is already up-to-date!\n"
     ]
    },
    {
     "data": {
      "text/plain": [
       "True"
      ]
     },
     "execution_count": 4,
     "metadata": {},
     "output_type": "execute_result"
    }
   ],
   "source": [
    "import nltk\n",
    "nltk.download(\"stopwords\")"
   ]
  },
  {
   "cell_type": "markdown",
   "metadata": {
    "id": "XHgECptbojd_"
   },
   "source": [
    "### Data"
   ]
  },
  {
   "cell_type": "code",
   "execution_count": 5,
   "metadata": {
    "id": "cMGq0QS4m6xJ"
   },
   "outputs": [],
   "source": [
    "# from google.colab import drive\n",
    "# drive.mount('/content/drive')"
   ]
  },
  {
   "cell_type": "code",
   "execution_count": 2,
   "metadata": {
    "id": "6Pj2-enBkeYs"
   },
   "outputs": [],
   "source": [
    "# FILE_PATH = '/content/drive/MyDrive/nlp/final_questions1.csv'\n",
    "FILE_PATH = 'final_questions1.csv'"
   ]
  },
  {
   "cell_type": "code",
   "execution_count": 7,
   "metadata": {
    "colab": {
     "base_uri": "https://localhost:8080/"
    },
    "id": "f2rLl3bckesZ",
    "outputId": "c1d1a605-2bed-405f-c3fd-04c8fcf26219"
   },
   "outputs": [
    {
     "name": "stderr",
     "output_type": "stream",
     "text": [
      "/tmp/ipykernel_356/2463157460.py:1: FutureWarning: The error_bad_lines argument has been deprecated and will be removed in a future version. Use on_bad_lines in the future.\n",
      "\n",
      "\n",
      "  df = pd.read_csv(FILE_PATH, delimiter=';', error_bad_lines=False, names=['physician', 'text'], header=None)\n"
     ]
    }
   ],
   "source": [
    "df = pd.read_csv(FILE_PATH, delimiter=';', error_bad_lines=False, names=['physician', 'text'], header=None)"
   ]
  },
  {
   "cell_type": "code",
   "execution_count": 8,
   "metadata": {
    "colab": {
     "base_uri": "https://localhost:8080/",
     "height": 419
    },
    "id": "MKtx8YBUk4ku",
    "outputId": "02751a6f-9add-4502-acc9-2c3d23f4b02e"
   },
   "outputs": [
    {
     "data": {
      "text/html": [
       "<div>\n",
       "<style scoped>\n",
       "    .dataframe tbody tr th:only-of-type {\n",
       "        vertical-align: middle;\n",
       "    }\n",
       "\n",
       "    .dataframe tbody tr th {\n",
       "        vertical-align: top;\n",
       "    }\n",
       "\n",
       "    .dataframe thead th {\n",
       "        text-align: right;\n",
       "    }\n",
       "</style>\n",
       "<table border=\"1\" class=\"dataframe\">\n",
       "  <thead>\n",
       "    <tr style=\"text-align: right;\">\n",
       "      <th></th>\n",
       "      <th>physician</th>\n",
       "      <th>text</th>\n",
       "    </tr>\n",
       "  </thead>\n",
       "  <tbody>\n",
       "    <tr>\n",
       "      <th>0</th>\n",
       "      <td>психиатр</td>\n",
       "      <td>Здравствуйте, помогите пожалуйста. Ситуация сл...</td>\n",
       "    </tr>\n",
       "    <tr>\n",
       "      <th>1</th>\n",
       "      <td>диетолог</td>\n",
       "      <td>У меня такая проблема я теряю вес хочу набрать...</td>\n",
       "    </tr>\n",
       "    <tr>\n",
       "      <th>2</th>\n",
       "      <td>гинеколог</td>\n",
       "      <td>Здравствуйте! Около 10 месяцев беспокоит зуд в...</td>\n",
       "    </tr>\n",
       "    <tr>\n",
       "      <th>3</th>\n",
       "      <td>гастроэнтеролог</td>\n",
       "      <td>Чувство вздутия в левом боку не проходит уже 4...</td>\n",
       "    </tr>\n",
       "    <tr>\n",
       "      <th>4</th>\n",
       "      <td>ревматолог</td>\n",
       "      <td>Здравствуйте! у моей мамы ревматоидный артрит ...</td>\n",
       "    </tr>\n",
       "    <tr>\n",
       "      <th>...</th>\n",
       "      <td>...</td>\n",
       "      <td>...</td>\n",
       "    </tr>\n",
       "    <tr>\n",
       "      <th>31760</th>\n",
       "      <td>инфекционист</td>\n",
       "      <td>Здравствуйте, примерно 2 месяца назад меня уку...</td>\n",
       "    </tr>\n",
       "    <tr>\n",
       "      <th>31761</th>\n",
       "      <td>дерматолог</td>\n",
       "      <td>Здравствуйте! Беспокоят который год высыпания ...</td>\n",
       "    </tr>\n",
       "    <tr>\n",
       "      <th>31762</th>\n",
       "      <td>педиатр</td>\n",
       "      <td>Дочке 3 месяца.Приготовила смесь ,добавила в н...</td>\n",
       "    </tr>\n",
       "    <tr>\n",
       "      <th>31763</th>\n",
       "      <td>инфекционист</td>\n",
       "      <td>Здравствуйте, 14 дней назад поцарапала кошка, ...</td>\n",
       "    </tr>\n",
       "    <tr>\n",
       "      <th>31764</th>\n",
       "      <td>педиатр</td>\n",
       "      <td>У ребёнка на протяжении 4-5 месяцев стали сохн...</td>\n",
       "    </tr>\n",
       "  </tbody>\n",
       "</table>\n",
       "<p>31765 rows × 2 columns</p>\n",
       "</div>"
      ],
      "text/plain": [
       "             physician                                               text\n",
       "0             психиатр  Здравствуйте, помогите пожалуйста. Ситуация сл...\n",
       "1             диетолог  У меня такая проблема я теряю вес хочу набрать...\n",
       "2            гинеколог  Здравствуйте! Около 10 месяцев беспокоит зуд в...\n",
       "3      гастроэнтеролог  Чувство вздутия в левом боку не проходит уже 4...\n",
       "4           ревматолог  Здравствуйте! у моей мамы ревматоидный артрит ...\n",
       "...                ...                                                ...\n",
       "31760     инфекционист  Здравствуйте, примерно 2 месяца назад меня уку...\n",
       "31761       дерматолог  Здравствуйте! Беспокоят который год высыпания ...\n",
       "31762          педиатр  Дочке 3 месяца.Приготовила смесь ,добавила в н...\n",
       "31763     инфекционист  Здравствуйте, 14 дней назад поцарапала кошка, ...\n",
       "31764          педиатр  У ребёнка на протяжении 4-5 месяцев стали сохн...\n",
       "\n",
       "[31765 rows x 2 columns]"
      ]
     },
     "execution_count": 8,
     "metadata": {},
     "output_type": "execute_result"
    }
   ],
   "source": [
    "df"
   ]
  },
  {
   "cell_type": "code",
   "execution_count": 50,
   "metadata": {
    "colab": {
     "base_uri": "https://localhost:8080/"
    },
    "id": "8E-HwtH7oHIk",
    "outputId": "c2389ccc-011f-43f4-c785-ab2473dea62b"
   },
   "outputs": [
    {
     "data": {
      "text/plain": [
       "array(['психиатр', 'диетолог', 'гинеколог', 'гастроэнтеролог',\n",
       "       'ревматолог', 'хирург-стоматолог', 'педиатр', 'офтальмолог',\n",
       "       'травматолог', 'кардиолог', 'терапевт', 'венеролог', 'пульмонолог',\n",
       "       'эндокринолог', 'психолог', 'стоматолог', 'дерматолог', 'маммолог',\n",
       "       'невролог', 'аллерголог-иммунолог', 'проктолог', 'гепатолог',\n",
       "       'ортопед', 'детский дерматолог', 'хирург', 'уролог', 'акушер',\n",
       "       'лор', 'инфекционист', 'гинеколог-эндокринолог', 'covid-19',\n",
       "       'онколог', 'флеболог', 'нефролог', 'детский невролог', 'гематолог',\n",
       "       'фтизиатр', 'психотерапевт', 'детский хирург', 'рентгенолог',\n",
       "       'ветеринар', 'логопед', 'ортодонт', 'детский лор', 'косметолог',\n",
       "       'нарколог', 'детский гинеколог', 'сосудистый хирург', 'андролог',\n",
       "       'нейрохирург', 'анестезиолог-реаниматолог', 'сомнолог',\n",
       "       'детский стоматолог', 'сексолог', 'фармацевт', 'врач кдл',\n",
       "       'пластический хирург', 'кардиохирург', 'трихолог', 'гомеопат',\n",
       "       'репродуктолог', 'физиотерапевт', 'мануальный терапевт',\n",
       "       'массажист'], dtype=object)"
      ]
     },
     "execution_count": 50,
     "metadata": {},
     "output_type": "execute_result"
    }
   ],
   "source": [
    "physicians = df.physician.unique()\n",
    "physicians"
   ]
  },
  {
   "cell_type": "code",
   "execution_count": 51,
   "metadata": {
    "colab": {
     "base_uri": "https://localhost:8080/"
    },
    "id": "f5RfY_gHorBz",
    "outputId": "a74e5883-ff24-44d8-ab59-ee7cf75e24c0"
   },
   "outputs": [
    {
     "data": {
      "text/plain": [
       "{'гинеколог': 3878,\n",
       " 'педиатр': 3844,\n",
       " 'терапевт': 2309,\n",
       " 'невролог': 1898,\n",
       " 'гастроэнтеролог': 1830,\n",
       " 'кардиолог': 1421,\n",
       " 'эндокринолог': 1403,\n",
       " 'дерматолог': 1105,\n",
       " 'инфекционист': 934,\n",
       " 'лор': 902,\n",
       " 'акушер': 854,\n",
       " 'офтальмолог': 814,\n",
       " 'уролог': 785,\n",
       " 'хирург': 673,\n",
       " 'ветеринар': 540,\n",
       " 'онколог': 511,\n",
       " 'гематолог': 456,\n",
       " 'детский невролог': 456,\n",
       " 'психиатр': 449,\n",
       " 'психолог': 429,\n",
       " 'пульмонолог': 408,\n",
       " 'аллерголог-иммунолог': 403,\n",
       " 'травматолог': 370,\n",
       " 'стоматолог': 364,\n",
       " 'детский дерматолог': 340,\n",
       " 'гинеколог-эндокринолог': 321,\n",
       " 'психотерапевт': 312,\n",
       " 'детский лор': 281,\n",
       " 'covid-19': 275,\n",
       " 'проктолог': 258,\n",
       " 'ревматолог': 247,\n",
       " 'маммолог': 219,\n",
       " 'венеролог': 215,\n",
       " 'ортопед': 213,\n",
       " 'гепатолог': 209,\n",
       " 'нейрохирург': 204,\n",
       " 'детский хирург': 144,\n",
       " 'нефролог': 127,\n",
       " 'андролог': 123,\n",
       " 'фтизиатр': 118,\n",
       " 'врач кдл': 109,\n",
       " 'детский стоматолог': 91,\n",
       " 'флеболог': 90,\n",
       " 'рентгенолог': 81,\n",
       " 'диетолог': 73,\n",
       " 'детский гинеколог': 69,\n",
       " 'сосудистый хирург': 66,\n",
       " 'нарколог': 60,\n",
       " 'сексолог': 58,\n",
       " 'хирург-стоматолог': 58,\n",
       " 'фармацевт': 48,\n",
       " 'косметолог': 47,\n",
       " 'анестезиолог-реаниматолог': 42,\n",
       " 'ортодонт': 41,\n",
       " 'трихолог': 38,\n",
       " 'кардиохирург': 32,\n",
       " 'логопед': 26,\n",
       " 'сомнолог': 21,\n",
       " 'пластический хирург': 21,\n",
       " 'репродуктолог': 20,\n",
       " 'гомеопат': 18,\n",
       " 'мануальный терапевт': 6,\n",
       " 'физиотерапевт': 4,\n",
       " 'массажист': 4}"
      ]
     },
     "execution_count": 51,
     "metadata": {},
     "output_type": "execute_result"
    }
   ],
   "source": [
    "df.physician.value_counts().to_dict()"
   ]
  },
  {
   "cell_type": "code",
   "execution_count": 52,
   "metadata": {
    "colab": {
     "base_uri": "https://localhost:8080/",
     "height": 605
    },
    "id": "Q-8bL3sT8jEW",
    "outputId": "f95e920b-38dd-4477-8d48-b86d05563d2b"
   },
   "outputs": [
    {
     "data": {
      "text/plain": [
       "<Axes: >"
      ]
     },
     "execution_count": 52,
     "metadata": {},
     "output_type": "execute_result"
    },
    {
     "data": {
      "image/png": "[encoded data removed]",
      "text/plain": [
       "<Figure size 1700x700 with 1 Axes>"
      ]
     },
     "metadata": {},
     "output_type": "display_data"
    }
   ],
   "source": [
    "plt.figure(figsize=(17,7))\n",
    "df.physician.value_counts().plot(kind='bar', colormap = 'cividis')"
   ]
  },
  {
   "cell_type": "code",
   "execution_count": 53,
   "metadata": {
    "colab": {
     "base_uri": "https://localhost:8080/",
     "height": 282
    },
    "id": "oAuRSqD_vcQK",
    "outputId": "35aef1fb-a079-409f-e5d6-c891763d5f20"
   },
   "outputs": [
    {
     "data": {
      "text/plain": [
       "<Axes: >"
      ]
     },
     "execution_count": 53,
     "metadata": {},
     "output_type": "execute_result"
    },
    {
     "data": {
      "image/png": "[encoded data removed]",
      "text/plain": [
       "<Figure size 640x480 with 1 Axes>"
      ]
     },
     "metadata": {},
     "output_type": "display_data"
    }
   ],
   "source": [
    "# number of words in text\n",
    "lens = df.text.str.len()\n",
    "lens.hist(bins = np.arange(0,3000,300))"
   ]
  },
  {
   "cell_type": "markdown",
   "metadata": {
    "id": "V5DxuHfUut9K"
   },
   "source": [
    "### Preprocessing"
   ]
  },
  {
   "cell_type": "code",
   "execution_count": 54,
   "metadata": {
    "id": "LI7o49S-uHO9"
   },
   "outputs": [],
   "source": [
    "from nltk.corpus import stopwords\n",
    "from pymystem3 import Mystem\n",
    "from string import punctuation"
   ]
  },
  {
   "cell_type": "code",
   "execution_count": 55,
   "metadata": {
    "colab": {
     "base_uri": "https://localhost:8080/"
    },
    "id": "xG3ivKbbuyFP",
    "outputId": "81ef1698-fb6c-4141-fceb-f58c190197c2"
   },
   "outputs": [],
   "source": [
    "# lemmatizer and stopwords list\n",
    "mystem = Mystem() \n",
    "stopwords = stopwords.words(\"russian\")"
   ]
  },
  {
   "cell_type": "code",
   "execution_count": 56,
   "metadata": {
    "id": "zEb37LcLuyNK"
   },
   "outputs": [],
   "source": [
    "def preprocess_text(text):\n",
    "    tokens = mystem.lemmatize(text.lower())\n",
    "    tokens = [token for token in tokens if token not in stopwords\\\n",
    "              and token != \" \" \\\n",
    "              and token.strip() not in punctuation]\n",
    "    \n",
    "    text = \" \".join(tokens)\n",
    "    return text"
   ]
  },
  {
   "cell_type": "code",
   "execution_count": 57,
   "metadata": {
    "id": "tajIVEH-vB6F"
   },
   "outputs": [],
   "source": [
    "df['text'] = df['text'].map(lambda s: preprocess_text(s))"
   ]
  },
  {
   "cell_type": "markdown",
   "metadata": {
    "id": "rfYax0yrxRZz"
   },
   "source": [
    "### Split the data to train and test sets"
   ]
  },
  {
   "cell_type": "code",
   "execution_count": 15,
   "metadata": {
    "id": "LLCx-OPmxKl3"
   },
   "outputs": [],
   "source": [
    "# from sklearn.model_selection import StratifiedShuffleSplit\n",
    "\n",
    "# split = StratifiedShuffleSplit(n_splits=4, test_size=0.2, random_state=42)\n",
    "# split.get_n_splits(df['physician'], df['text'])"
   ]
  },
  {
   "cell_type": "code",
   "execution_count": 16,
   "metadata": {
    "id": "74nN3oC8xuUH"
   },
   "outputs": [],
   "source": [
    "# split"
   ]
  },
  {
   "cell_type": "code",
   "execution_count": 17,
   "metadata": {
    "id": "XhM5Q6kKhExh"
   },
   "outputs": [],
   "source": [
    "# my_tags = df.physician.unique()\n",
    "# len(my_tags)\n",
    "# df.physician.count_values()"
   ]
  },
  {
   "cell_type": "markdown",
   "metadata": {
    "id": "oQDjSe0vjhm0"
   },
   "source": [
    "### Naive Bayes classifier for multinomial models"
   ]
  },
  {
   "cell_type": "code",
   "execution_count": 9,
   "metadata": {
    "id": "rVseEdRkhExh"
   },
   "outputs": [],
   "source": [
    "from sklearn.model_selection import train_test_split\n",
    "\n",
    "X = df.text\n",
    "y = df.physician\n",
    "X_train, X_test, y_train, y_test = train_test_split(X, y, test_size=0.2, random_state = 42)"
   ]
  },
  {
   "cell_type": "code",
   "execution_count": 19,
   "metadata": {
    "colab": {
     "base_uri": "https://localhost:8080/",
     "height": 159
    },
    "id": "tpKuDmh1hExh",
    "outputId": "20d2d219-d1e7-446a-970c-9b4b0a6aec73"
   },
   "outputs": [
    {
     "data": {
      "text/html": [
       "<style>#sk-container-id-1 {color: black;background-color: white;}#sk-container-id-1 pre{padding: 0;}#sk-container-id-1 div.sk-toggleable {background-color: white;}#sk-container-id-1 label.sk-toggleable__label {cursor: pointer;display: block;width: 100%;margin-bottom: 0;padding: 0.3em;box-sizing: border-box;text-align: center;}#sk-container-id-1 label.sk-toggleable__label-arrow:before {content: \"▸\";float: left;margin-right: 0.25em;color: #696969;}#sk-container-id-1 label.sk-toggleable__label-arrow:hover:before {color: black;}#sk-container-id-1 div.sk-estimator:hover label.sk-toggleable__label-arrow:before {color: black;}#sk-container-id-1 div.sk-toggleable__content {max-height: 0;max-width: 0;overflow: hidden;text-align: left;background-color: #f0f8ff;}#sk-container-id-1 div.sk-toggleable__content pre {margin: 0.2em;color: black;border-radius: 0.25em;background-color: #f0f8ff;}#sk-container-id-1 input.sk-toggleable__control:checked~div.sk-toggleable__content {max-height: 200px;max-width: 100%;overflow: auto;}#sk-container-id-1 input.sk-toggleable__control:checked~label.sk-toggleable__label-arrow:before {content: \"▾\";}#sk-container-id-1 div.sk-estimator input.sk-toggleable__control:checked~label.sk-toggleable__label {background-color: #d4ebff;}#sk-container-id-1 div.sk-label input.sk-toggleable__control:checked~label.sk-toggleable__label {background-color: #d4ebff;}#sk-container-id-1 input.sk-hidden--visually {border: 0;clip: rect(1px 1px 1px 1px);clip: rect(1px, 1px, 1px, 1px);height: 1px;margin: -1px;overflow: hidden;padding: 0;position: absolute;width: 1px;}#sk-container-id-1 div.sk-estimator {font-family: monospace;background-color: #f0f8ff;border: 1px dotted black;border-radius: 0.25em;box-sizing: border-box;margin-bottom: 0.5em;}#sk-container-id-1 div.sk-estimator:hover {background-color: #d4ebff;}#sk-container-id-1 div.sk-parallel-item::after {content: \"\";width: 100%;border-bottom: 1px solid gray;flex-grow: 1;}#sk-container-id-1 div.sk-label:hover label.sk-toggleable__label {background-color: #d4ebff;}#sk-container-id-1 div.sk-serial::before {content: \"\";position: absolute;border-left: 1px solid gray;box-sizing: border-box;top: 0;bottom: 0;left: 50%;z-index: 0;}#sk-container-id-1 div.sk-serial {display: flex;flex-direction: column;align-items: center;background-color: white;padding-right: 0.2em;padding-left: 0.2em;position: relative;}#sk-container-id-1 div.sk-item {position: relative;z-index: 1;}#sk-container-id-1 div.sk-parallel {display: flex;align-items: stretch;justify-content: center;background-color: white;position: relative;}#sk-container-id-1 div.sk-item::before, #sk-container-id-1 div.sk-parallel-item::before {content: \"\";position: absolute;border-left: 1px solid gray;box-sizing: border-box;top: 0;bottom: 0;left: 50%;z-index: -1;}#sk-container-id-1 div.sk-parallel-item {display: flex;flex-direction: column;z-index: 1;position: relative;background-color: white;}#sk-container-id-1 div.sk-parallel-item:first-child::after {align-self: flex-end;width: 50%;}#sk-container-id-1 div.sk-parallel-item:last-child::after {align-self: flex-start;width: 50%;}#sk-container-id-1 div.sk-parallel-item:only-child::after {width: 0;}#sk-container-id-1 div.sk-dashed-wrapped {border: 1px dashed gray;margin: 0 0.4em 0.5em 0.4em;box-sizing: border-box;padding-bottom: 0.4em;background-color: white;}#sk-container-id-1 div.sk-label label {font-family: monospace;font-weight: bold;display: inline-block;line-height: 1.2em;}#sk-container-id-1 div.sk-label-container {text-align: center;}#sk-container-id-1 div.sk-container {/* jupyter's `normalize.less` sets `[hidden] { display: none; }` but bootstrap.min.css set `[hidden] { display: none !important; }` so we also need the `!important` here to be able to override the default hidden behavior on the sphinx rendered scikit-learn.org. See: https://github.com/scikit-learn/scikit-learn/issues/21755 */display: inline-block !important;position: relative;}#sk-container-id-1 div.sk-text-repr-fallback {display: none;}</style><div id=\"sk-container-id-1\" class=\"sk-top-container\"><div class=\"sk-text-repr-fallback\"><pre>Pipeline(steps=[(&#x27;vect&#x27;, CountVectorizer()), (&#x27;tfidf&#x27;, TfidfTransformer()),\n",
       "                (&#x27;clf&#x27;, MultinomialNB())])</pre><b>In a Jupyter environment, please rerun this cell to show the HTML representation or trust the notebook. <br />On GitHub, the HTML representation is unable to render, please try loading this page with nbviewer.org.</b></div><div class=\"sk-container\" hidden><div class=\"sk-item sk-dashed-wrapped\"><div class=\"sk-label-container\"><div class=\"sk-label sk-toggleable\"><input class=\"sk-toggleable__control sk-hidden--visually\" id=\"sk-estimator-id-1\" type=\"checkbox\" ><label for=\"sk-estimator-id-1\" class=\"sk-toggleable__label sk-toggleable__label-arrow\">Pipeline</label><div class=\"sk-toggleable__content\"><pre>Pipeline(steps=[(&#x27;vect&#x27;, CountVectorizer()), (&#x27;tfidf&#x27;, TfidfTransformer()),\n",
       "                (&#x27;clf&#x27;, MultinomialNB())])</pre></div></div></div><div class=\"sk-serial\"><div class=\"sk-item\"><div class=\"sk-estimator sk-toggleable\"><input class=\"sk-toggleable__control sk-hidden--visually\" id=\"sk-estimator-id-2\" type=\"checkbox\" ><label for=\"sk-estimator-id-2\" class=\"sk-toggleable__label sk-toggleable__label-arrow\">CountVectorizer</label><div class=\"sk-toggleable__content\"><pre>CountVectorizer()</pre></div></div></div><div class=\"sk-item\"><div class=\"sk-estimator sk-toggleable\"><input class=\"sk-toggleable__control sk-hidden--visually\" id=\"sk-estimator-id-3\" type=\"checkbox\" ><label for=\"sk-estimator-id-3\" class=\"sk-toggleable__label sk-toggleable__label-arrow\">TfidfTransformer</label><div class=\"sk-toggleable__content\"><pre>TfidfTransformer()</pre></div></div></div><div class=\"sk-item\"><div class=\"sk-estimator sk-toggleable\"><input class=\"sk-toggleable__control sk-hidden--visually\" id=\"sk-estimator-id-4\" type=\"checkbox\" ><label for=\"sk-estimator-id-4\" class=\"sk-toggleable__label sk-toggleable__label-arrow\">MultinomialNB</label><div class=\"sk-toggleable__content\"><pre>MultinomialNB()</pre></div></div></div></div></div></div></div>"
      ],
      "text/plain": [
       "Pipeline(steps=[('vect', CountVectorizer()), ('tfidf', TfidfTransformer()),\n",
       "                ('clf', MultinomialNB())])"
      ]
     },
     "execution_count": 19,
     "metadata": {},
     "output_type": "execute_result"
    }
   ],
   "source": [
    "from sklearn.naive_bayes import MultinomialNB\n",
    "from sklearn.pipeline import Pipeline\n",
    "from sklearn.feature_extraction.text import CountVectorizer, TfidfTransformer\n",
    "\n",
    "nb = Pipeline([('vect', CountVectorizer()),\n",
    "               ('tfidf', TfidfTransformer()),\n",
    "               ('clf', MultinomialNB()),\n",
    "              ])\n",
    "nb.fit(X_train, y_train)"
   ]
  },
  {
   "cell_type": "code",
   "execution_count": 20,
   "metadata": {
    "id": "hFPPHaV7hExi"
   },
   "outputs": [],
   "source": [
    "# my_tags__ = y_test.unique()"
   ]
  },
  {
   "cell_type": "code",
   "execution_count": 21,
   "metadata": {
    "colab": {
     "base_uri": "https://localhost:8080/"
    },
    "id": "PHc1NbUthExi",
    "outputId": "a93e7262-ba46-4b24-d0b2-8a91246e95b8"
   },
   "outputs": [
    {
     "name": "stdout",
     "output_type": "stream",
     "text": [
      "accuracy 0.3659688336219109\n",
      "                           precision    recall  f1-score   support\n",
      "\n",
      "                гинеколог       0.00      0.00      0.00        51\n",
      "                  педиатр       0.00      0.00      0.00       184\n",
      "            психотерапевт       0.00      0.00      0.00        78\n",
      "          гастроэнтеролог       0.00      0.00      0.00        24\n",
      "       детский дерматолог       0.00      0.00      0.00         6\n",
      "                   уролог       0.00      0.00      0.00        32\n",
      "              офтальмолог       0.00      0.00      0.00       110\n",
      "анестезиолог-реаниматолог       0.00      0.00      0.00        22\n",
      "                 маммолог       0.83      0.50      0.62       365\n",
      "                 терапевт       0.00      0.00      0.00        97\n",
      "             эндокринолог       0.00      0.00      0.00        44\n",
      "              рентгенолог       0.32      0.97      0.48       751\n",
      "                 фтизиатр       0.00      0.00      0.00        54\n",
      "                   акушер       0.00      0.00      0.00         1\n",
      "   гинеколог-эндокринолог       0.76      0.10      0.18       217\n",
      "               дерматолог       0.00      0.00      0.00         8\n",
      "         детский невролог       0.00      0.00      0.00        59\n",
      "                 нефролог       0.00      0.00      0.00        67\n",
      "                венеролог       0.00      0.00      0.00        82\n",
      "                 психолог       0.00      0.00      0.00        20\n",
      "               ревматолог       0.00      0.00      0.00        32\n",
      "                  онколог       0.00      0.00      0.00        14\n",
      "                      лор       0.75      0.03      0.06       187\n",
      "               стоматолог       0.90      0.53      0.67       264\n",
      "             инфекционист       0.00      0.00      0.00         5\n",
      "                 covid-19       0.00      0.00      0.00         7\n",
      "                 невролог       0.00      0.00      0.00         5\n",
      "                   хирург       0.00      0.00      0.00       195\n",
      "                гематолог       0.00      0.00      0.00        47\n",
      "              пульмонолог       0.00      0.00      0.00         3\n",
      "                кардиолог       0.00      0.00      0.00         2\n",
      "     аллерголог-иммунолог       0.00      0.00      0.00        15\n",
      "                 диетолог       0.57      0.67      0.62       381\n",
      "                гепатолог       0.00      0.00      0.00        38\n",
      "        хирург-стоматолог       0.00      0.00      0.00        22\n",
      "              нейрохирург       0.00      0.00      0.00        93\n",
      "                ветеринар       0.00      0.00      0.00        18\n",
      "       детский стоматолог       0.00      0.00      0.00        46\n",
      "                 сексолог       1.00      0.20      0.34       171\n",
      "                проктолог       0.28      0.98      0.43       774\n",
      "                 психиатр       0.00      0.00      0.00         3\n",
      "                 сомнолог       0.00      0.00      0.00        54\n",
      "              детский лор       0.00      0.00      0.00        92\n",
      "           детский хирург       0.00      0.00      0.00        82\n",
      "                 ортодонт       0.00      0.00      0.00        67\n",
      "                 нарколог       0.00      0.00      0.00        87\n",
      "              травматолог       0.00      0.00      0.00        31\n",
      "                фармацевт       0.00      0.00      0.00        20\n",
      "        детский гинеколог       0.00      0.00      0.00         4\n",
      "                  ортопед       0.00      0.00      0.00        13\n",
      "            репродуктолог       0.00      0.00      0.00         5\n",
      "                 андролог       0.00      0.00      0.00        13\n",
      "                 трихолог       0.00      0.00      0.00        84\n",
      "                 гомеопат       0.26      0.17      0.21       482\n",
      "                 флеболог       0.00      0.00      0.00        70\n",
      "                 врач кдл       0.00      0.00      0.00         8\n",
      "        сосудистый хирург       0.00      0.00      0.00       166\n",
      "             кардиохирург       0.00      0.00      0.00        11\n",
      "               косметолог       0.00      0.00      0.00        14\n",
      "                  логопед       0.00      0.00      0.00        16\n",
      "      мануальный терапевт       0.00      0.00      0.00       149\n",
      "      пластический хирург       0.00      0.00      0.00        12\n",
      "                массажист       0.90      0.41      0.56       279\n",
      "\n",
      "                 accuracy                           0.37      6353\n",
      "                macro avg       0.10      0.07      0.07      6353\n",
      "             weighted avg       0.33      0.37      0.27      6353\n",
      "\n"
     ]
    },
    {
     "name": "stderr",
     "output_type": "stream",
     "text": [
      "/opt/conda/lib/python3.10/site-packages/sklearn/metrics/_classification.py:1344: UndefinedMetricWarning: Precision and F-score are ill-defined and being set to 0.0 in labels with no predicted samples. Use `zero_division` parameter to control this behavior.\n",
      "  _warn_prf(average, modifier, msg_start, len(result))\n",
      "/opt/conda/lib/python3.10/site-packages/sklearn/metrics/_classification.py:1344: UndefinedMetricWarning: Precision and F-score are ill-defined and being set to 0.0 in labels with no predicted samples. Use `zero_division` parameter to control this behavior.\n",
      "  _warn_prf(average, modifier, msg_start, len(result))\n",
      "/opt/conda/lib/python3.10/site-packages/sklearn/metrics/_classification.py:1344: UndefinedMetricWarning: Precision and F-score are ill-defined and being set to 0.0 in labels with no predicted samples. Use `zero_division` parameter to control this behavior.\n",
      "  _warn_prf(average, modifier, msg_start, len(result))\n"
     ]
    }
   ],
   "source": [
    "from sklearn.metrics import accuracy_score\n",
    "from sklearn.metrics import classification_report\n",
    "\n",
    "y_pred = nb.predict(X_test)\n",
    "\n",
    "print('accuracy %s' % accuracy_score(y_pred, y_test))\n",
    "print(classification_report(y_test, y_pred, target_names=y_test.unique()))"
   ]
  },
  {
   "cell_type": "markdown",
   "metadata": {
    "id": "CuENHaqykEnn"
   },
   "source": [
    "Accuracy: 0.37\n",
    "\n",
    "Very poor performance, precision for many labels is equal to 0."
   ]
  },
  {
   "cell_type": "markdown",
   "metadata": {
    "id": "G7Y4NowZhExi"
   },
   "source": [
    "### Linear support vector machine"
   ]
  },
  {
   "cell_type": "code",
   "execution_count": 22,
   "metadata": {
    "colab": {
     "base_uri": "https://localhost:8080/",
     "height": 159
    },
    "id": "zDadtH4hhExj",
    "outputId": "20886a66-fdab-4829-ef65-b035d996e285"
   },
   "outputs": [
    {
     "data": {
      "text/html": [
       "<style>#sk-container-id-2 {color: black;background-color: white;}#sk-container-id-2 pre{padding: 0;}#sk-container-id-2 div.sk-toggleable {background-color: white;}#sk-container-id-2 label.sk-toggleable__label {cursor: pointer;display: block;width: 100%;margin-bottom: 0;padding: 0.3em;box-sizing: border-box;text-align: center;}#sk-container-id-2 label.sk-toggleable__label-arrow:before {content: \"▸\";float: left;margin-right: 0.25em;color: #696969;}#sk-container-id-2 label.sk-toggleable__label-arrow:hover:before {color: black;}#sk-container-id-2 div.sk-estimator:hover label.sk-toggleable__label-arrow:before {color: black;}#sk-container-id-2 div.sk-toggleable__content {max-height: 0;max-width: 0;overflow: hidden;text-align: left;background-color: #f0f8ff;}#sk-container-id-2 div.sk-toggleable__content pre {margin: 0.2em;color: black;border-radius: 0.25em;background-color: #f0f8ff;}#sk-container-id-2 input.sk-toggleable__control:checked~div.sk-toggleable__content {max-height: 200px;max-width: 100%;overflow: auto;}#sk-container-id-2 input.sk-toggleable__control:checked~label.sk-toggleable__label-arrow:before {content: \"▾\";}#sk-container-id-2 div.sk-estimator input.sk-toggleable__control:checked~label.sk-toggleable__label {background-color: #d4ebff;}#sk-container-id-2 div.sk-label input.sk-toggleable__control:checked~label.sk-toggleable__label {background-color: #d4ebff;}#sk-container-id-2 input.sk-hidden--visually {border: 0;clip: rect(1px 1px 1px 1px);clip: rect(1px, 1px, 1px, 1px);height: 1px;margin: -1px;overflow: hidden;padding: 0;position: absolute;width: 1px;}#sk-container-id-2 div.sk-estimator {font-family: monospace;background-color: #f0f8ff;border: 1px dotted black;border-radius: 0.25em;box-sizing: border-box;margin-bottom: 0.5em;}#sk-container-id-2 div.sk-estimator:hover {background-color: #d4ebff;}#sk-container-id-2 div.sk-parallel-item::after {content: \"\";width: 100%;border-bottom: 1px solid gray;flex-grow: 1;}#sk-container-id-2 div.sk-label:hover label.sk-toggleable__label {background-color: #d4ebff;}#sk-container-id-2 div.sk-serial::before {content: \"\";position: absolute;border-left: 1px solid gray;box-sizing: border-box;top: 0;bottom: 0;left: 50%;z-index: 0;}#sk-container-id-2 div.sk-serial {display: flex;flex-direction: column;align-items: center;background-color: white;padding-right: 0.2em;padding-left: 0.2em;position: relative;}#sk-container-id-2 div.sk-item {position: relative;z-index: 1;}#sk-container-id-2 div.sk-parallel {display: flex;align-items: stretch;justify-content: center;background-color: white;position: relative;}#sk-container-id-2 div.sk-item::before, #sk-container-id-2 div.sk-parallel-item::before {content: \"\";position: absolute;border-left: 1px solid gray;box-sizing: border-box;top: 0;bottom: 0;left: 50%;z-index: -1;}#sk-container-id-2 div.sk-parallel-item {display: flex;flex-direction: column;z-index: 1;position: relative;background-color: white;}#sk-container-id-2 div.sk-parallel-item:first-child::after {align-self: flex-end;width: 50%;}#sk-container-id-2 div.sk-parallel-item:last-child::after {align-self: flex-start;width: 50%;}#sk-container-id-2 div.sk-parallel-item:only-child::after {width: 0;}#sk-container-id-2 div.sk-dashed-wrapped {border: 1px dashed gray;margin: 0 0.4em 0.5em 0.4em;box-sizing: border-box;padding-bottom: 0.4em;background-color: white;}#sk-container-id-2 div.sk-label label {font-family: monospace;font-weight: bold;display: inline-block;line-height: 1.2em;}#sk-container-id-2 div.sk-label-container {text-align: center;}#sk-container-id-2 div.sk-container {/* jupyter's `normalize.less` sets `[hidden] { display: none; }` but bootstrap.min.css set `[hidden] { display: none !important; }` so we also need the `!important` here to be able to override the default hidden behavior on the sphinx rendered scikit-learn.org. See: https://github.com/scikit-learn/scikit-learn/issues/21755 */display: inline-block !important;position: relative;}#sk-container-id-2 div.sk-text-repr-fallback {display: none;}</style><div id=\"sk-container-id-2\" class=\"sk-top-container\"><div class=\"sk-text-repr-fallback\"><pre>Pipeline(steps=[(&#x27;vect&#x27;, CountVectorizer()), (&#x27;tfidf&#x27;, TfidfTransformer()),\n",
       "                (&#x27;clf&#x27;,\n",
       "                 SGDClassifier(alpha=0.001, max_iter=5, random_state=42,\n",
       "                               tol=None))])</pre><b>In a Jupyter environment, please rerun this cell to show the HTML representation or trust the notebook. <br />On GitHub, the HTML representation is unable to render, please try loading this page with nbviewer.org.</b></div><div class=\"sk-container\" hidden><div class=\"sk-item sk-dashed-wrapped\"><div class=\"sk-label-container\"><div class=\"sk-label sk-toggleable\"><input class=\"sk-toggleable__control sk-hidden--visually\" id=\"sk-estimator-id-5\" type=\"checkbox\" ><label for=\"sk-estimator-id-5\" class=\"sk-toggleable__label sk-toggleable__label-arrow\">Pipeline</label><div class=\"sk-toggleable__content\"><pre>Pipeline(steps=[(&#x27;vect&#x27;, CountVectorizer()), (&#x27;tfidf&#x27;, TfidfTransformer()),\n",
       "                (&#x27;clf&#x27;,\n",
       "                 SGDClassifier(alpha=0.001, max_iter=5, random_state=42,\n",
       "                               tol=None))])</pre></div></div></div><div class=\"sk-serial\"><div class=\"sk-item\"><div class=\"sk-estimator sk-toggleable\"><input class=\"sk-toggleable__control sk-hidden--visually\" id=\"sk-estimator-id-6\" type=\"checkbox\" ><label for=\"sk-estimator-id-6\" class=\"sk-toggleable__label sk-toggleable__label-arrow\">CountVectorizer</label><div class=\"sk-toggleable__content\"><pre>CountVectorizer()</pre></div></div></div><div class=\"sk-item\"><div class=\"sk-estimator sk-toggleable\"><input class=\"sk-toggleable__control sk-hidden--visually\" id=\"sk-estimator-id-7\" type=\"checkbox\" ><label for=\"sk-estimator-id-7\" class=\"sk-toggleable__label sk-toggleable__label-arrow\">TfidfTransformer</label><div class=\"sk-toggleable__content\"><pre>TfidfTransformer()</pre></div></div></div><div class=\"sk-item\"><div class=\"sk-estimator sk-toggleable\"><input class=\"sk-toggleable__control sk-hidden--visually\" id=\"sk-estimator-id-8\" type=\"checkbox\" ><label for=\"sk-estimator-id-8\" class=\"sk-toggleable__label sk-toggleable__label-arrow\">SGDClassifier</label><div class=\"sk-toggleable__content\"><pre>SGDClassifier(alpha=0.001, max_iter=5, random_state=42, tol=None)</pre></div></div></div></div></div></div></div>"
      ],
      "text/plain": [
       "Pipeline(steps=[('vect', CountVectorizer()), ('tfidf', TfidfTransformer()),\n",
       "                ('clf',\n",
       "                 SGDClassifier(alpha=0.001, max_iter=5, random_state=42,\n",
       "                               tol=None))])"
      ]
     },
     "execution_count": 22,
     "metadata": {},
     "output_type": "execute_result"
    }
   ],
   "source": [
    "from sklearn.linear_model import SGDClassifier\n",
    "\n",
    "sgd = Pipeline([('vect', CountVectorizer()),\n",
    "                ('tfidf', TfidfTransformer()),\n",
    "                ('clf', SGDClassifier(loss='hinge', penalty='l2',alpha=1e-3, random_state=42, max_iter=5, tol=None)),\n",
    "               ])\n",
    "sgd.fit(X_train, y_train)"
   ]
  },
  {
   "cell_type": "code",
   "execution_count": 23,
   "metadata": {
    "colab": {
     "base_uri": "https://localhost:8080/"
    },
    "id": "pKkg6jkThExj",
    "outputId": "502ebdbc-f3c2-4d2c-dbf1-2c37ccde2b38"
   },
   "outputs": [
    {
     "name": "stdout",
     "output_type": "stream",
     "text": [
      "accuracy 0.577837242247757\n",
      "                           precision    recall  f1-score   support\n",
      "\n",
      "                гинеколог       0.56      0.20      0.29        51\n",
      "                  педиатр       0.46      0.07      0.11       184\n",
      "            психотерапевт       0.50      0.10      0.17        78\n",
      "          гастроэнтеролог       0.60      0.25      0.35        24\n",
      "       детский дерматолог       1.00      0.67      0.80         6\n",
      "                   уролог       0.79      0.34      0.48        32\n",
      "              офтальмолог       0.72      0.84      0.77       110\n",
      "анестезиолог-реаниматолог       0.25      0.05      0.08        22\n",
      "                 маммолог       0.67      0.77      0.71       365\n",
      "                 терапевт       0.47      0.26      0.33        97\n",
      "             эндокринолог       0.47      0.20      0.29        44\n",
      "              рентгенолог       0.56      0.91      0.69       751\n",
      "                 фтизиатр       0.00      0.00      0.00        54\n",
      "                   акушер       0.00      0.00      0.00         1\n",
      "   гинеколог-эндокринолог       0.56      0.70      0.62       217\n",
      "               дерматолог       0.00      0.00      0.00         8\n",
      "         детский невролог       0.20      0.02      0.03        59\n",
      "                 нефролог       0.33      0.01      0.03        67\n",
      "                венеролог       0.44      0.15      0.22        82\n",
      "                 психолог       0.00      0.00      0.00        20\n",
      "               ревматолог       0.14      0.03      0.05        32\n",
      "                  онколог       0.62      0.36      0.45        14\n",
      "                      лор       0.60      0.47      0.53       187\n",
      "               стоматолог       0.60      0.91      0.72       264\n",
      "             инфекционист       0.00      0.00      0.00         5\n",
      "                 covid-19       0.60      0.43      0.50         7\n",
      "                 невролог       0.50      0.20      0.29         5\n",
      "                   хирург       0.68      0.60      0.64       195\n",
      "                гематолог       0.62      0.28      0.38        47\n",
      "              пульмонолог       0.00      0.00      0.00         3\n",
      "                кардиолог       0.00      0.00      0.00         2\n",
      "     аллерголог-иммунолог       0.50      0.13      0.21        15\n",
      "                 диетолог       0.58      0.71      0.64       381\n",
      "                гепатолог       0.50      0.03      0.05        38\n",
      "        хирург-стоматолог       0.25      0.09      0.13        22\n",
      "              нейрохирург       0.66      0.33      0.44        93\n",
      "                ветеринар       1.00      0.39      0.56        18\n",
      "       детский стоматолог       0.42      0.17      0.25        46\n",
      "                 сексолог       0.75      0.88      0.81       171\n",
      "                проктолог       0.53      0.91      0.67       774\n",
      "                 психиатр       0.50      0.33      0.40         3\n",
      "                 сомнолог       0.81      0.56      0.66        54\n",
      "              детский лор       0.57      0.41      0.48        92\n",
      "           детский хирург       0.54      0.78      0.64        82\n",
      "                 ортодонт       0.48      0.16      0.24        67\n",
      "                 нарколог       0.59      0.41      0.49        87\n",
      "              травматолог       0.48      0.42      0.45        31\n",
      "                фармацевт       0.00      0.00      0.00        20\n",
      "        детский гинеколог       0.00      0.00      0.00         4\n",
      "                  ортопед       0.25      0.08      0.12        13\n",
      "            репродуктолог       0.00      0.00      0.00         5\n",
      "                 андролог       1.00      0.23      0.38        13\n",
      "                 трихолог       0.62      0.75      0.68        84\n",
      "                 гомеопат       0.41      0.09      0.14       482\n",
      "                 флеболог       0.43      0.51      0.47        70\n",
      "                 врач кдл       0.80      0.50      0.62         8\n",
      "        сосудистый хирург       0.68      0.51      0.58       166\n",
      "             кардиохирург       0.33      0.18      0.24        11\n",
      "               косметолог       0.33      0.29      0.31        14\n",
      "                  логопед       0.80      0.75      0.77        16\n",
      "      мануальный терапевт       0.53      0.32      0.40       149\n",
      "      пластический хирург       0.00      0.00      0.00        12\n",
      "                массажист       0.63      0.81      0.71       279\n",
      "\n",
      "                 accuracy                           0.58      6353\n",
      "                macro avg       0.46      0.33      0.35      6353\n",
      "             weighted avg       0.55      0.58      0.52      6353\n",
      "\n"
     ]
    },
    {
     "name": "stderr",
     "output_type": "stream",
     "text": [
      "/opt/conda/lib/python3.10/site-packages/sklearn/metrics/_classification.py:1344: UndefinedMetricWarning: Precision and F-score are ill-defined and being set to 0.0 in labels with no predicted samples. Use `zero_division` parameter to control this behavior.\n",
      "  _warn_prf(average, modifier, msg_start, len(result))\n",
      "/opt/conda/lib/python3.10/site-packages/sklearn/metrics/_classification.py:1344: UndefinedMetricWarning: Precision and F-score are ill-defined and being set to 0.0 in labels with no predicted samples. Use `zero_division` parameter to control this behavior.\n",
      "  _warn_prf(average, modifier, msg_start, len(result))\n",
      "/opt/conda/lib/python3.10/site-packages/sklearn/metrics/_classification.py:1344: UndefinedMetricWarning: Precision and F-score are ill-defined and being set to 0.0 in labels with no predicted samples. Use `zero_division` parameter to control this behavior.\n",
      "  _warn_prf(average, modifier, msg_start, len(result))\n"
     ]
    }
   ],
   "source": [
    "y_pred = sgd.predict(X_test)\n",
    "\n",
    "print('accuracy %s' % accuracy_score(y_pred, y_test))\n",
    "print(classification_report(y_test, y_pred,target_names=y_test.unique()))"
   ]
  },
  {
   "cell_type": "markdown",
   "metadata": {
    "id": "gvzyeKKykpBh"
   },
   "source": [
    "Accuracy: 0.58\n",
    "\n",
    "Better performance, although precision for some labels is still equal to 0."
   ]
  },
  {
   "cell_type": "code",
   "execution_count": 24,
   "metadata": {
    "colab": {
     "base_uri": "https://localhost:8080/"
    },
    "id": "NVf9aojamXut",
    "outputId": "9b70c585-264d-460e-eada-61c0737e5e1d"
   },
   "outputs": [
    {
     "data": {
      "text/plain": [
       "array(['логопед'], dtype='<U25')"
      ]
     },
     "execution_count": 24,
     "metadata": {},
     "output_type": "execute_result"
    }
   ],
   "source": [
    "sgd.predict([\"Проблема с сердцем\"])"
   ]
  },
  {
   "cell_type": "code",
   "execution_count": 25,
   "metadata": {
    "colab": {
     "base_uri": "https://localhost:8080/"
    },
    "id": "39604SkpmgmW",
    "outputId": "18029a8e-6f35-4bdc-f9f4-460256100fae"
   },
   "outputs": [
    {
     "data": {
      "text/plain": [
       "array(['логопед'], dtype='<U25')"
      ]
     },
     "execution_count": 25,
     "metadata": {},
     "output_type": "execute_result"
    }
   ],
   "source": [
    "sgd.predict([\"Проблема с нервами\"])"
   ]
  },
  {
   "cell_type": "code",
   "execution_count": 26,
   "metadata": {
    "colab": {
     "base_uri": "https://localhost:8080/"
    },
    "id": "0iijhTO1mgma",
    "outputId": "c37e4729-4545-40de-be10-f09691453011"
   },
   "outputs": [
    {
     "data": {
      "text/plain": [
       "array(['гастроэнтеролог'], dtype='<U25')"
      ]
     },
     "execution_count": 26,
     "metadata": {},
     "output_type": "execute_result"
    }
   ],
   "source": [
    "sgd.predict([\"Требуется лечение головы\"])"
   ]
  },
  {
   "cell_type": "markdown",
   "metadata": {
    "id": "96GDhqF8mm1g"
   },
   "source": [
    "Model predicts incorrectly"
   ]
  },
  {
   "cell_type": "markdown",
   "metadata": {
    "id": "1HzXq1HHhExj"
   },
   "source": [
    "### Logistic regression"
   ]
  },
  {
   "cell_type": "code",
   "execution_count": 27,
   "metadata": {
    "colab": {
     "base_uri": "https://localhost:8080/",
     "height": 329
    },
    "id": "p3g6miPghExj",
    "outputId": "fd2150bd-62dc-4f11-a32a-38ade11fc628"
   },
   "outputs": [
    {
     "name": "stdout",
     "output_type": "stream",
     "text": [
      "CPU times: user 17min 20s, sys: 1min 22s, total: 18min 43s\n",
      "Wall time: 1min 35s\n"
     ]
    },
    {
     "name": "stderr",
     "output_type": "stream",
     "text": [
      "/opt/conda/lib/python3.10/site-packages/sklearn/linear_model/_logistic.py:458: ConvergenceWarning: lbfgs failed to converge (status=1):\n",
      "STOP: TOTAL NO. of ITERATIONS REACHED LIMIT.\n",
      "\n",
      "Increase the number of iterations (max_iter) or scale the data as shown in:\n",
      "    https://scikit-learn.org/stable/modules/preprocessing.html\n",
      "Please also refer to the documentation for alternative solver options:\n",
      "    https://scikit-learn.org/stable/modules/linear_model.html#logistic-regression\n",
      "  n_iter_i = _check_optimize_result(\n"
     ]
    },
    {
     "data": {
      "text/html": [
       "<style>#sk-container-id-3 {color: black;background-color: white;}#sk-container-id-3 pre{padding: 0;}#sk-container-id-3 div.sk-toggleable {background-color: white;}#sk-container-id-3 label.sk-toggleable__label {cursor: pointer;display: block;width: 100%;margin-bottom: 0;padding: 0.3em;box-sizing: border-box;text-align: center;}#sk-container-id-3 label.sk-toggleable__label-arrow:before {content: \"▸\";float: left;margin-right: 0.25em;color: #696969;}#sk-container-id-3 label.sk-toggleable__label-arrow:hover:before {color: black;}#sk-container-id-3 div.sk-estimator:hover label.sk-toggleable__label-arrow:before {color: black;}#sk-container-id-3 div.sk-toggleable__content {max-height: 0;max-width: 0;overflow: hidden;text-align: left;background-color: #f0f8ff;}#sk-container-id-3 div.sk-toggleable__content pre {margin: 0.2em;color: black;border-radius: 0.25em;background-color: #f0f8ff;}#sk-container-id-3 input.sk-toggleable__control:checked~div.sk-toggleable__content {max-height: 200px;max-width: 100%;overflow: auto;}#sk-container-id-3 input.sk-toggleable__control:checked~label.sk-toggleable__label-arrow:before {content: \"▾\";}#sk-container-id-3 div.sk-estimator input.sk-toggleable__control:checked~label.sk-toggleable__label {background-color: #d4ebff;}#sk-container-id-3 div.sk-label input.sk-toggleable__control:checked~label.sk-toggleable__label {background-color: #d4ebff;}#sk-container-id-3 input.sk-hidden--visually {border: 0;clip: rect(1px 1px 1px 1px);clip: rect(1px, 1px, 1px, 1px);height: 1px;margin: -1px;overflow: hidden;padding: 0;position: absolute;width: 1px;}#sk-container-id-3 div.sk-estimator {font-family: monospace;background-color: #f0f8ff;border: 1px dotted black;border-radius: 0.25em;box-sizing: border-box;margin-bottom: 0.5em;}#sk-container-id-3 div.sk-estimator:hover {background-color: #d4ebff;}#sk-container-id-3 div.sk-parallel-item::after {content: \"\";width: 100%;border-bottom: 1px solid gray;flex-grow: 1;}#sk-container-id-3 div.sk-label:hover label.sk-toggleable__label {background-color: #d4ebff;}#sk-container-id-3 div.sk-serial::before {content: \"\";position: absolute;border-left: 1px solid gray;box-sizing: border-box;top: 0;bottom: 0;left: 50%;z-index: 0;}#sk-container-id-3 div.sk-serial {display: flex;flex-direction: column;align-items: center;background-color: white;padding-right: 0.2em;padding-left: 0.2em;position: relative;}#sk-container-id-3 div.sk-item {position: relative;z-index: 1;}#sk-container-id-3 div.sk-parallel {display: flex;align-items: stretch;justify-content: center;background-color: white;position: relative;}#sk-container-id-3 div.sk-item::before, #sk-container-id-3 div.sk-parallel-item::before {content: \"\";position: absolute;border-left: 1px solid gray;box-sizing: border-box;top: 0;bottom: 0;left: 50%;z-index: -1;}#sk-container-id-3 div.sk-parallel-item {display: flex;flex-direction: column;z-index: 1;position: relative;background-color: white;}#sk-container-id-3 div.sk-parallel-item:first-child::after {align-self: flex-end;width: 50%;}#sk-container-id-3 div.sk-parallel-item:last-child::after {align-self: flex-start;width: 50%;}#sk-container-id-3 div.sk-parallel-item:only-child::after {width: 0;}#sk-container-id-3 div.sk-dashed-wrapped {border: 1px dashed gray;margin: 0 0.4em 0.5em 0.4em;box-sizing: border-box;padding-bottom: 0.4em;background-color: white;}#sk-container-id-3 div.sk-label label {font-family: monospace;font-weight: bold;display: inline-block;line-height: 1.2em;}#sk-container-id-3 div.sk-label-container {text-align: center;}#sk-container-id-3 div.sk-container {/* jupyter's `normalize.less` sets `[hidden] { display: none; }` but bootstrap.min.css set `[hidden] { display: none !important; }` so we also need the `!important` here to be able to override the default hidden behavior on the sphinx rendered scikit-learn.org. See: https://github.com/scikit-learn/scikit-learn/issues/21755 */display: inline-block !important;position: relative;}#sk-container-id-3 div.sk-text-repr-fallback {display: none;}</style><div id=\"sk-container-id-3\" class=\"sk-top-container\"><div class=\"sk-text-repr-fallback\"><pre>Pipeline(steps=[(&#x27;vect&#x27;, CountVectorizer()), (&#x27;tfidf&#x27;, TfidfTransformer()),\n",
       "                (&#x27;clf&#x27;, LogisticRegression())])</pre><b>In a Jupyter environment, please rerun this cell to show the HTML representation or trust the notebook. <br />On GitHub, the HTML representation is unable to render, please try loading this page with nbviewer.org.</b></div><div class=\"sk-container\" hidden><div class=\"sk-item sk-dashed-wrapped\"><div class=\"sk-label-container\"><div class=\"sk-label sk-toggleable\"><input class=\"sk-toggleable__control sk-hidden--visually\" id=\"sk-estimator-id-9\" type=\"checkbox\" ><label for=\"sk-estimator-id-9\" class=\"sk-toggleable__label sk-toggleable__label-arrow\">Pipeline</label><div class=\"sk-toggleable__content\"><pre>Pipeline(steps=[(&#x27;vect&#x27;, CountVectorizer()), (&#x27;tfidf&#x27;, TfidfTransformer()),\n",
       "                (&#x27;clf&#x27;, LogisticRegression())])</pre></div></div></div><div class=\"sk-serial\"><div class=\"sk-item\"><div class=\"sk-estimator sk-toggleable\"><input class=\"sk-toggleable__control sk-hidden--visually\" id=\"sk-estimator-id-10\" type=\"checkbox\" ><label for=\"sk-estimator-id-10\" class=\"sk-toggleable__label sk-toggleable__label-arrow\">CountVectorizer</label><div class=\"sk-toggleable__content\"><pre>CountVectorizer()</pre></div></div></div><div class=\"sk-item\"><div class=\"sk-estimator sk-toggleable\"><input class=\"sk-toggleable__control sk-hidden--visually\" id=\"sk-estimator-id-11\" type=\"checkbox\" ><label for=\"sk-estimator-id-11\" class=\"sk-toggleable__label sk-toggleable__label-arrow\">TfidfTransformer</label><div class=\"sk-toggleable__content\"><pre>TfidfTransformer()</pre></div></div></div><div class=\"sk-item\"><div class=\"sk-estimator sk-toggleable\"><input class=\"sk-toggleable__control sk-hidden--visually\" id=\"sk-estimator-id-12\" type=\"checkbox\" ><label for=\"sk-estimator-id-12\" class=\"sk-toggleable__label sk-toggleable__label-arrow\">LogisticRegression</label><div class=\"sk-toggleable__content\"><pre>LogisticRegression()</pre></div></div></div></div></div></div></div>"
      ],
      "text/plain": [
       "Pipeline(steps=[('vect', CountVectorizer()), ('tfidf', TfidfTransformer()),\n",
       "                ('clf', LogisticRegression())])"
      ]
     },
     "execution_count": 27,
     "metadata": {},
     "output_type": "execute_result"
    }
   ],
   "source": [
    "%%time\n",
    "from sklearn.linear_model import LogisticRegression\n",
    "\n",
    "logreg = Pipeline([('vect', CountVectorizer()),\n",
    "                ('tfidf', TfidfTransformer()),\n",
    "                ('clf', LogisticRegression()),\n",
    "               ])\n",
    "logreg.fit(X_train, y_train)"
   ]
  },
  {
   "cell_type": "code",
   "execution_count": 28,
   "metadata": {
    "colab": {
     "base_uri": "https://localhost:8080/"
    },
    "id": "cwZRQP8ehExk",
    "outputId": "fd5992a3-222a-4803-8db3-0a0723fe500f"
   },
   "outputs": [
    {
     "name": "stdout",
     "output_type": "stream",
     "text": [
      "accuracy 0.6115221155359672\n",
      "                           precision    recall  f1-score   support\n",
      "\n",
      "                гинеколог       0.57      0.16      0.25        51\n",
      "                  педиатр       0.37      0.18      0.25       184\n",
      "            психотерапевт       0.56      0.19      0.29        78\n",
      "          гастроэнтеролог       0.67      0.17      0.27        24\n",
      "       детский дерматолог       0.00      0.00      0.00         6\n",
      "                   уролог       0.50      0.12      0.20        32\n",
      "              офтальмолог       0.84      0.80      0.82       110\n",
      "анестезиолог-реаниматолог       0.00      0.00      0.00        22\n",
      "                 маммолог       0.68      0.76      0.72       365\n",
      "                 терапевт       0.62      0.25      0.35        97\n",
      "             эндокринолог       0.62      0.11      0.19        44\n",
      "              рентгенолог       0.63      0.87      0.73       751\n",
      "                 фтизиатр       0.57      0.07      0.13        54\n",
      "                   акушер       0.00      0.00      0.00         1\n",
      "   гинеколог-эндокринолог       0.53      0.74      0.62       217\n",
      "               дерматолог       0.00      0.00      0.00         8\n",
      "         детский невролог       0.46      0.10      0.17        59\n",
      "                 нефролог       0.83      0.15      0.25        67\n",
      "                венеролог       0.62      0.40      0.49        82\n",
      "                 психолог       1.00      0.05      0.10        20\n",
      "               ревматолог       0.00      0.00      0.00        32\n",
      "                  онколог       1.00      0.21      0.35        14\n",
      "                      лор       0.61      0.52      0.56       187\n",
      "               стоматолог       0.75      0.86      0.80       264\n",
      "             инфекционист       0.00      0.00      0.00         5\n",
      "                 covid-19       0.00      0.00      0.00         7\n",
      "                 невролог       0.00      0.00      0.00         5\n",
      "                   хирург       0.70      0.65      0.67       195\n",
      "                гематолог       0.67      0.47      0.55        47\n",
      "              пульмонолог       0.00      0.00      0.00         3\n",
      "                кардиолог       0.00      0.00      0.00         2\n",
      "     аллерголог-иммунолог       0.00      0.00      0.00        15\n",
      "                 диетолог       0.58      0.77      0.67       381\n",
      "                гепатолог       0.71      0.13      0.22        38\n",
      "        хирург-стоматолог       0.50      0.09      0.15        22\n",
      "              нейрохирург       0.64      0.47      0.54        93\n",
      "                ветеринар       0.00      0.00      0.00        18\n",
      "       детский стоматолог       0.33      0.11      0.16        46\n",
      "                 сексолог       0.91      0.86      0.88       171\n",
      "                проктолог       0.62      0.88      0.73       774\n",
      "                 психиатр       0.00      0.00      0.00         3\n",
      "                 сомнолог       0.97      0.54      0.69        54\n",
      "              детский лор       0.52      0.50      0.51        92\n",
      "           детский хирург       0.58      0.74      0.65        82\n",
      "                 ортодонт       0.53      0.13      0.21        67\n",
      "                 нарколог       0.62      0.53      0.57        87\n",
      "              травматолог       0.62      0.32      0.43        31\n",
      "                фармацевт       0.00      0.00      0.00        20\n",
      "        детский гинеколог       0.00      0.00      0.00         4\n",
      "                  ортопед       0.00      0.00      0.00        13\n",
      "            репродуктолог       0.00      0.00      0.00         5\n",
      "                 андролог       0.00      0.00      0.00        13\n",
      "                 трихолог       0.61      0.71      0.66        84\n",
      "                 гомеопат       0.36      0.45      0.40       482\n",
      "                 флеболог       0.52      0.51      0.52        70\n",
      "                 врач кдл       1.00      0.12      0.22         8\n",
      "        сосудистый хирург       0.69      0.60      0.64       166\n",
      "             кардиохирург       0.00      0.00      0.00        11\n",
      "               косметолог       0.14      0.07      0.10        14\n",
      "                  логопед       1.00      0.38      0.55        16\n",
      "      мануальный терапевт       0.49      0.44      0.46       149\n",
      "      пластический хирург       0.00      0.00      0.00        12\n",
      "                массажист       0.73      0.77      0.75       279\n",
      "\n",
      "                 accuracy                           0.61      6353\n",
      "                macro avg       0.44      0.29      0.31      6353\n",
      "             weighted avg       0.59      0.61      0.58      6353\n",
      "\n"
     ]
    },
    {
     "name": "stderr",
     "output_type": "stream",
     "text": [
      "/opt/conda/lib/python3.10/site-packages/sklearn/metrics/_classification.py:1344: UndefinedMetricWarning: Precision and F-score are ill-defined and being set to 0.0 in labels with no predicted samples. Use `zero_division` parameter to control this behavior.\n",
      "  _warn_prf(average, modifier, msg_start, len(result))\n",
      "/opt/conda/lib/python3.10/site-packages/sklearn/metrics/_classification.py:1344: UndefinedMetricWarning: Precision and F-score are ill-defined and being set to 0.0 in labels with no predicted samples. Use `zero_division` parameter to control this behavior.\n",
      "  _warn_prf(average, modifier, msg_start, len(result))\n",
      "/opt/conda/lib/python3.10/site-packages/sklearn/metrics/_classification.py:1344: UndefinedMetricWarning: Precision and F-score are ill-defined and being set to 0.0 in labels with no predicted samples. Use `zero_division` parameter to control this behavior.\n",
      "  _warn_prf(average, modifier, msg_start, len(result))\n"
     ]
    }
   ],
   "source": [
    "y_pred = logreg.predict(X_test)\n",
    "\n",
    "print('accuracy %s' % accuracy_score(y_pred, y_test))\n",
    "print(classification_report(y_test, y_pred,target_names=y_test.unique()))"
   ]
  },
  {
   "cell_type": "markdown",
   "metadata": {
    "id": "BmaGSSi8hExk"
   },
   "source": [
    "Accuracy: 0.61\n",
    "\n",
    "SLightly better performance, although precision for some labels is still equal to 0."
   ]
  },
  {
   "cell_type": "code",
   "execution_count": 29,
   "metadata": {
    "colab": {
     "base_uri": "https://localhost:8080/"
    },
    "id": "ppYj92Swl9N0",
    "outputId": "97d087e9-337e-4ab0-8cde-9607df5c0374"
   },
   "outputs": [
    {
     "data": {
      "text/plain": [
       "array(['гастроэнтеролог'], dtype=object)"
      ]
     },
     "execution_count": 29,
     "metadata": {},
     "output_type": "execute_result"
    }
   ],
   "source": [
    "logreg.predict([\"Проблема с сердцем\"])"
   ]
  },
  {
   "cell_type": "code",
   "execution_count": 30,
   "metadata": {
    "colab": {
     "base_uri": "https://localhost:8080/"
    },
    "id": "YBcouw4WmDaT",
    "outputId": "8f10b692-498d-4e46-dd96-ca779713d89f"
   },
   "outputs": [
    {
     "data": {
      "text/plain": [
       "array(['гастроэнтеролог'], dtype=object)"
      ]
     },
     "execution_count": 30,
     "metadata": {},
     "output_type": "execute_result"
    }
   ],
   "source": [
    "logreg.predict([\"Проблема с нервами\"])"
   ]
  },
  {
   "cell_type": "code",
   "execution_count": 31,
   "metadata": {
    "colab": {
     "base_uri": "https://localhost:8080/"
    },
    "id": "4X19IaEFmHpq",
    "outputId": "de409b88-ef30-4633-a9d6-33eb9134ff9e"
   },
   "outputs": [
    {
     "data": {
      "text/plain": [
       "array(['гастроэнтеролог'], dtype=object)"
      ]
     },
     "execution_count": 31,
     "metadata": {},
     "output_type": "execute_result"
    }
   ],
   "source": [
    "logreg.predict([\"Требуется лечение головы\"])"
   ]
  },
  {
   "cell_type": "markdown",
   "metadata": {
    "id": "WIkvx3R3msJY"
   },
   "source": [
    "Model predicts incorrectly"
   ]
  },
  {
   "cell_type": "markdown",
   "metadata": {
    "id": "qT5XJkJImzkM"
   },
   "source": [
    "## Logistic Regression with TfidfVectorizer"
   ]
  },
  {
   "cell_type": "markdown",
   "metadata": {
    "id": "eZak3TlhnQaQ"
   },
   "source": [
    "Download the data again"
   ]
  },
  {
   "cell_type": "code",
   "execution_count": 32,
   "metadata": {
    "colab": {
     "base_uri": "https://localhost:8080/",
     "height": 292
    },
    "id": "o6CRcOgehExk",
    "outputId": "772d8bb7-e3c8-467e-cb2f-79a218777a72"
   },
   "outputs": [
    {
     "name": "stderr",
     "output_type": "stream",
     "text": [
      "/tmp/ipykernel_785/349979881.py:2: FutureWarning: The error_bad_lines argument has been deprecated and will be removed in a future version. Use on_bad_lines in the future.\n",
      "\n",
      "\n",
      "  data = pd.read_csv(FILE_PATH, delimiter=';', error_bad_lines=False, names=['physician', 'text'], header=None)\n"
     ]
    },
    {
     "data": {
      "text/html": [
       "<div>\n",
       "<style scoped>\n",
       "    .dataframe tbody tr th:only-of-type {\n",
       "        vertical-align: middle;\n",
       "    }\n",
       "\n",
       "    .dataframe tbody tr th {\n",
       "        vertical-align: top;\n",
       "    }\n",
       "\n",
       "    .dataframe thead th {\n",
       "        text-align: right;\n",
       "    }\n",
       "</style>\n",
       "<table border=\"1\" class=\"dataframe\">\n",
       "  <thead>\n",
       "    <tr style=\"text-align: right;\">\n",
       "      <th></th>\n",
       "      <th>physician</th>\n",
       "      <th>text</th>\n",
       "    </tr>\n",
       "  </thead>\n",
       "  <tbody>\n",
       "    <tr>\n",
       "      <th>0</th>\n",
       "      <td>психиатр</td>\n",
       "      <td>Здравствуйте, помогите пожалуйста. Ситуация сл...</td>\n",
       "    </tr>\n",
       "    <tr>\n",
       "      <th>1</th>\n",
       "      <td>диетолог</td>\n",
       "      <td>У меня такая проблема я теряю вес хочу набрать...</td>\n",
       "    </tr>\n",
       "    <tr>\n",
       "      <th>2</th>\n",
       "      <td>гинеколог</td>\n",
       "      <td>Здравствуйте! Около 10 месяцев беспокоит зуд в...</td>\n",
       "    </tr>\n",
       "    <tr>\n",
       "      <th>3</th>\n",
       "      <td>гастроэнтеролог</td>\n",
       "      <td>Чувство вздутия в левом боку не проходит уже 4...</td>\n",
       "    </tr>\n",
       "    <tr>\n",
       "      <th>4</th>\n",
       "      <td>ревматолог</td>\n",
       "      <td>Здравствуйте! у моей мамы ревматоидный артрит ...</td>\n",
       "    </tr>\n",
       "  </tbody>\n",
       "</table>\n",
       "</div>"
      ],
      "text/plain": [
       "         physician                                               text\n",
       "0         психиатр  Здравствуйте, помогите пожалуйста. Ситуация сл...\n",
       "1         диетолог  У меня такая проблема я теряю вес хочу набрать...\n",
       "2        гинеколог  Здравствуйте! Около 10 месяцев беспокоит зуд в...\n",
       "3  гастроэнтеролог  Чувство вздутия в левом боку не проходит уже 4...\n",
       "4       ревматолог  Здравствуйте! у моей мамы ревматоидный артрит ..."
      ]
     },
     "execution_count": 32,
     "metadata": {},
     "output_type": "execute_result"
    }
   ],
   "source": [
    "FILE_PATH = 'final_questions1.csv'\n",
    "data = pd.read_csv(FILE_PATH, delimiter=';', error_bad_lines=False, names=['physician', 'text'], header=None)\n",
    "data.head()"
   ]
  },
  {
   "cell_type": "code",
   "execution_count": 33,
   "metadata": {
    "colab": {
     "base_uri": "https://localhost:8080/"
    },
    "id": "ukSq2ZBthExl",
    "outputId": "d5eecc4c-febb-4a84-c985-185e44e1b001"
   },
   "outputs": [
    {
     "data": {
      "text/plain": [
       "(6400, 2)"
      ]
     },
     "execution_count": 33,
     "metadata": {},
     "output_type": "execute_result"
    }
   ],
   "source": [
    "# Test data size\n",
    "data.shape[0]*0.2\n",
    "\n",
    "train_data, test_data = train_test_split(data, test_size = 6400, random_state = 0)\n",
    "test_data.shape"
   ]
  },
  {
   "cell_type": "markdown",
   "metadata": {
    "id": "MDFdRx38ntbj"
   },
   "source": [
    "Stopwords, tokenization and stemming"
   ]
  },
  {
   "cell_type": "code",
   "execution_count": 34,
   "metadata": {
    "colab": {
     "base_uri": "https://localhost:8080/"
    },
    "id": "HiYm8b0HooQZ",
    "outputId": "f7eae6f6-2343-4286-f3e0-92c3ddf72fc4"
   },
   "outputs": [
    {
     "name": "stderr",
     "output_type": "stream",
     "text": [
      "[nltk_data] Downloading package punkt to /root/nltk_data...\n",
      "[nltk_data]   Unzipping tokenizers/punkt.zip.\n"
     ]
    },
    {
     "data": {
      "text/plain": [
       "True"
      ]
     },
     "execution_count": 34,
     "metadata": {},
     "output_type": "execute_result"
    }
   ],
   "source": [
    "import nltk\n",
    "nltk.download(\"punkt\")"
   ]
  },
  {
   "cell_type": "code",
   "execution_count": 35,
   "metadata": {
    "colab": {
     "base_uri": "https://localhost:8080/"
    },
    "id": "6jLmWLO1hExl",
    "outputId": "403905d6-2978-4c60-b8f6-c3020601cebc"
   },
   "outputs": [
    {
     "name": "stdout",
     "output_type": "stream",
     "text": [
      "Исходный текст: Здравствуйте, помогите пожалуйста. Ситуация следующая мне поставили укол с большой дозировкой нейролептика, после этого стало очень плохо, в голове когбудто что то рвалось, тошнило, слабость, пропал сон, в ноги немели, сердцебиение большое было ) сейчас прошло 2 месяца улучшений особо нет, голова болит, тошнит, слабость, сон плохой, снижение памяти и внимания, днём сонливость, такое чувства что позвоночник расыпается,чувства что голову чем то накачали. По Мрт энцефалопатия и плохой отток из вены головы. По позвоночнику лардоз поставили. Моя жизнь сильно изменилась, как востоновить здоровье, помогите пожалуйста, у меня ребенок ей нужна здоровая мама. Крик души о помощи\n",
      "Обработанный текст: ['здравств', 'помог', 'пожалуйст', 'ситуац', 'следующ', 'постав', 'укол', 'больш', 'дозировк', 'нейролептик', 'стал', 'очен', 'плох', 'голов', 'когбудт', 'рвал', 'тошн', 'слабост', 'пропа', 'сон', 'ног', 'немел', 'сердцебиен', 'больш', 'прошл', '2', 'месяц', 'улучшен', 'особ', 'голов', 'бол', 'тошн', 'слабост', 'сон', 'плох', 'снижен', 'памят', 'вниман', 'днем', 'сонлив', 'так', 'чувств', 'позвоночник', 'расыпа', 'чувств', 'голов', 'накача', 'по', 'мрт', 'энцефалопат', 'плох', 'отток', 'вен', 'голов', 'по', 'позвоночник', 'лардоз', 'постав', 'мо', 'жизн', 'сильн', 'измен', 'востонов', 'здоров', 'помог', 'пожалуйст', 'ребенок', 'нужн', 'здоров', 'мам', 'крик', 'душ', 'помощ']\n"
     ]
    }
   ],
   "source": [
    "from nltk.tokenize import word_tokenize\n",
    "from nltk.corpus import stopwords\n",
    "from nltk.stem import SnowballStemmer\n",
    "import string\n",
    "\n",
    "sentence_example = data.loc[0, 'text'] \n",
    "\n",
    "tokens = word_tokenize(sentence_example, language = 'russian') \n",
    "tokens_without_punctuation = [i for i in tokens if i not in string.punctuation] \n",
    "\n",
    "russian_stop_words = stopwords.words('russian') \n",
    "tokens_without_russian_stop_words_and_punctuation = [i for i in tokens_without_punctuation if i not in russian_stop_words] \n",
    "\n",
    "snowball = SnowballStemmer(language = 'russian')\n",
    "stemmed_tokens = [snowball.stem(i) for i in tokens_without_russian_stop_words_and_punctuation] \n",
    "\n",
    "print(f\"Исходный текст: {sentence_example}\")\n",
    "print(f\"Обработанный текст: {stemmed_tokens}\")"
   ]
  },
  {
   "cell_type": "code",
   "execution_count": 36,
   "metadata": {
    "colab": {
     "base_uri": "https://localhost:8080/"
    },
    "id": "vdfRD2W2hExl",
    "outputId": "040865af-16d3-4153-dcd9-0da980d2dc2d"
   },
   "outputs": [
    {
     "data": {
      "text/plain": [
       "['здравств',\n",
       " 'помог',\n",
       " 'пожалуйст',\n",
       " 'ситуац',\n",
       " 'следующ',\n",
       " 'постав',\n",
       " 'укол',\n",
       " 'больш',\n",
       " 'дозировк',\n",
       " 'нейролептик',\n",
       " 'стал',\n",
       " 'очен',\n",
       " 'плох',\n",
       " 'голов',\n",
       " 'когбудт',\n",
       " 'рвал',\n",
       " 'тошн',\n",
       " 'слабост',\n",
       " 'пропа',\n",
       " 'сон',\n",
       " 'ног',\n",
       " 'немел',\n",
       " 'сердцебиен',\n",
       " 'больш',\n",
       " 'прошл',\n",
       " '2',\n",
       " 'месяц',\n",
       " 'улучшен',\n",
       " 'особ',\n",
       " 'голов',\n",
       " 'бол',\n",
       " 'тошн',\n",
       " 'слабост',\n",
       " 'сон',\n",
       " 'плох',\n",
       " 'снижен',\n",
       " 'памят',\n",
       " 'вниман',\n",
       " 'днем',\n",
       " 'сонлив',\n",
       " 'так',\n",
       " 'чувств',\n",
       " 'позвоночник',\n",
       " 'расыпа',\n",
       " 'чувств',\n",
       " 'голов',\n",
       " 'накача',\n",
       " 'по',\n",
       " 'мрт',\n",
       " 'энцефалопат',\n",
       " 'плох',\n",
       " 'отток',\n",
       " 'вен',\n",
       " 'голов',\n",
       " 'по',\n",
       " 'позвоночник',\n",
       " 'лардоз',\n",
       " 'постав',\n",
       " 'мо',\n",
       " 'жизн',\n",
       " 'сильн',\n",
       " 'измен',\n",
       " 'востонов',\n",
       " 'здоров',\n",
       " 'помог',\n",
       " 'пожалуйст',\n",
       " 'ребенок',\n",
       " 'нужн',\n",
       " 'здоров',\n",
       " 'мам',\n",
       " 'крик',\n",
       " 'душ',\n",
       " 'помощ']"
      ]
     },
     "execution_count": 36,
     "metadata": {},
     "output_type": "execute_result"
    }
   ],
   "source": [
    "russian_stop_words = stopwords.words('russian')\n",
    "snowball = SnowballStemmer(language = 'russian')\n",
    "\n",
    "def tokenize_sentence(sentence: str, remove_stop_words: bool = True):\n",
    "    tokens = word_tokenize(sentence, language = 'russian')\n",
    "    tokens = [i for i in tokens if i not in string.punctuation]\n",
    "    if remove_stop_words:\n",
    "        tokens = [i for i in tokens if i not in russian_stop_words]\n",
    "    tokens = [snowball.stem(i) for i in tokens]\n",
    "    return tokens\n",
    "\n",
    "tokenize_sentence(sentence_example)"
   ]
  },
  {
   "cell_type": "markdown",
   "metadata": {
    "id": "5acacf85",
    "papermill": {
     "duration": 0.041509,
     "end_time": "2022-05-31T08:44:22.443010",
     "exception": false,
     "start_time": "2022-05-31T08:44:22.401501",
     "status": "completed"
    },
    "tags": []
   },
   "source": [
    "Word relevance\n",
    "\n"
   ]
  },
  {
   "cell_type": "code",
   "execution_count": 37,
   "metadata": {
    "colab": {
     "base_uri": "https://localhost:8080/"
    },
    "id": "vSgl2VIihExm",
    "outputId": "338dfef6-6eb8-41d1-b0b7-1e2970421c84"
   },
   "outputs": [
    {
     "name": "stderr",
     "output_type": "stream",
     "text": [
      "/opt/conda/lib/python3.10/site-packages/sklearn/feature_extraction/text.py:528: UserWarning: The parameter 'token_pattern' will not be used since 'tokenizer' is not None'\n",
      "  warnings.warn(\n"
     ]
    },
    {
     "name": "stdout",
     "output_type": "stream",
     "text": [
      "CPU times: user 1min 22s, sys: 69 ms, total: 1min 22s\n",
      "Wall time: 1min 22s\n"
     ]
    }
   ],
   "source": [
    "%%time\n",
    "from sklearn.feature_extraction.text import TfidfVectorizer\n",
    "\n",
    "vectorizer = TfidfVectorizer(tokenizer = lambda x: tokenize_sentence(x, remove_stop_words = True))\n",
    "features = vectorizer.fit_transform(train_data['text'])"
   ]
  },
  {
   "cell_type": "code",
   "execution_count": 38,
   "metadata": {
    "colab": {
     "base_uri": "https://localhost:8080/",
     "height": 244
    },
    "execution": {
     "iopub.execute_input": "2022-05-31T08:44:46.911172Z",
     "iopub.status.busy": "2022-05-31T08:44:46.910888Z",
     "iopub.status.idle": "2022-05-31T08:44:48.050247Z",
     "shell.execute_reply": "2022-05-31T08:44:48.049220Z"
    },
    "id": "4291a047",
    "outputId": "a29bcf46-fa8c-4793-a97d-4b989133afa0",
    "papermill": {
     "duration": 1.185611,
     "end_time": "2022-05-31T08:44:48.053194",
     "exception": false,
     "start_time": "2022-05-31T08:44:46.867583",
     "status": "completed"
    },
    "tags": []
   },
   "outputs": [
    {
     "name": "stdout",
     "output_type": "stream",
     "text": [
      "CPU times: user 17min 38s, sys: 1min 22s, total: 19min 1s\n",
      "Wall time: 1min 29s\n"
     ]
    },
    {
     "name": "stderr",
     "output_type": "stream",
     "text": [
      "/opt/conda/lib/python3.10/site-packages/sklearn/linear_model/_logistic.py:458: ConvergenceWarning: lbfgs failed to converge (status=1):\n",
      "STOP: TOTAL NO. of ITERATIONS REACHED LIMIT.\n",
      "\n",
      "Increase the number of iterations (max_iter) or scale the data as shown in:\n",
      "    https://scikit-learn.org/stable/modules/preprocessing.html\n",
      "Please also refer to the documentation for alternative solver options:\n",
      "    https://scikit-learn.org/stable/modules/linear_model.html#logistic-regression\n",
      "  n_iter_i = _check_optimize_result(\n"
     ]
    },
    {
     "data": {
      "text/html": [
       "<style>#sk-container-id-4 {color: black;background-color: white;}#sk-container-id-4 pre{padding: 0;}#sk-container-id-4 div.sk-toggleable {background-color: white;}#sk-container-id-4 label.sk-toggleable__label {cursor: pointer;display: block;width: 100%;margin-bottom: 0;padding: 0.3em;box-sizing: border-box;text-align: center;}#sk-container-id-4 label.sk-toggleable__label-arrow:before {content: \"▸\";float: left;margin-right: 0.25em;color: #696969;}#sk-container-id-4 label.sk-toggleable__label-arrow:hover:before {color: black;}#sk-container-id-4 div.sk-estimator:hover label.sk-toggleable__label-arrow:before {color: black;}#sk-container-id-4 div.sk-toggleable__content {max-height: 0;max-width: 0;overflow: hidden;text-align: left;background-color: #f0f8ff;}#sk-container-id-4 div.sk-toggleable__content pre {margin: 0.2em;color: black;border-radius: 0.25em;background-color: #f0f8ff;}#sk-container-id-4 input.sk-toggleable__control:checked~div.sk-toggleable__content {max-height: 200px;max-width: 100%;overflow: auto;}#sk-container-id-4 input.sk-toggleable__control:checked~label.sk-toggleable__label-arrow:before {content: \"▾\";}#sk-container-id-4 div.sk-estimator input.sk-toggleable__control:checked~label.sk-toggleable__label {background-color: #d4ebff;}#sk-container-id-4 div.sk-label input.sk-toggleable__control:checked~label.sk-toggleable__label {background-color: #d4ebff;}#sk-container-id-4 input.sk-hidden--visually {border: 0;clip: rect(1px 1px 1px 1px);clip: rect(1px, 1px, 1px, 1px);height: 1px;margin: -1px;overflow: hidden;padding: 0;position: absolute;width: 1px;}#sk-container-id-4 div.sk-estimator {font-family: monospace;background-color: #f0f8ff;border: 1px dotted black;border-radius: 0.25em;box-sizing: border-box;margin-bottom: 0.5em;}#sk-container-id-4 div.sk-estimator:hover {background-color: #d4ebff;}#sk-container-id-4 div.sk-parallel-item::after {content: \"\";width: 100%;border-bottom: 1px solid gray;flex-grow: 1;}#sk-container-id-4 div.sk-label:hover label.sk-toggleable__label {background-color: #d4ebff;}#sk-container-id-4 div.sk-serial::before {content: \"\";position: absolute;border-left: 1px solid gray;box-sizing: border-box;top: 0;bottom: 0;left: 50%;z-index: 0;}#sk-container-id-4 div.sk-serial {display: flex;flex-direction: column;align-items: center;background-color: white;padding-right: 0.2em;padding-left: 0.2em;position: relative;}#sk-container-id-4 div.sk-item {position: relative;z-index: 1;}#sk-container-id-4 div.sk-parallel {display: flex;align-items: stretch;justify-content: center;background-color: white;position: relative;}#sk-container-id-4 div.sk-item::before, #sk-container-id-4 div.sk-parallel-item::before {content: \"\";position: absolute;border-left: 1px solid gray;box-sizing: border-box;top: 0;bottom: 0;left: 50%;z-index: -1;}#sk-container-id-4 div.sk-parallel-item {display: flex;flex-direction: column;z-index: 1;position: relative;background-color: white;}#sk-container-id-4 div.sk-parallel-item:first-child::after {align-self: flex-end;width: 50%;}#sk-container-id-4 div.sk-parallel-item:last-child::after {align-self: flex-start;width: 50%;}#sk-container-id-4 div.sk-parallel-item:only-child::after {width: 0;}#sk-container-id-4 div.sk-dashed-wrapped {border: 1px dashed gray;margin: 0 0.4em 0.5em 0.4em;box-sizing: border-box;padding-bottom: 0.4em;background-color: white;}#sk-container-id-4 div.sk-label label {font-family: monospace;font-weight: bold;display: inline-block;line-height: 1.2em;}#sk-container-id-4 div.sk-label-container {text-align: center;}#sk-container-id-4 div.sk-container {/* jupyter's `normalize.less` sets `[hidden] { display: none; }` but bootstrap.min.css set `[hidden] { display: none !important; }` so we also need the `!important` here to be able to override the default hidden behavior on the sphinx rendered scikit-learn.org. See: https://github.com/scikit-learn/scikit-learn/issues/21755 */display: inline-block !important;position: relative;}#sk-container-id-4 div.sk-text-repr-fallback {display: none;}</style><div id=\"sk-container-id-4\" class=\"sk-top-container\"><div class=\"sk-text-repr-fallback\"><pre>LogisticRegression(random_state=0)</pre><b>In a Jupyter environment, please rerun this cell to show the HTML representation or trust the notebook. <br />On GitHub, the HTML representation is unable to render, please try loading this page with nbviewer.org.</b></div><div class=\"sk-container\" hidden><div class=\"sk-item\"><div class=\"sk-estimator sk-toggleable\"><input class=\"sk-toggleable__control sk-hidden--visually\" id=\"sk-estimator-id-13\" type=\"checkbox\" checked><label for=\"sk-estimator-id-13\" class=\"sk-toggleable__label sk-toggleable__label-arrow\">LogisticRegression</label><div class=\"sk-toggleable__content\"><pre>LogisticRegression(random_state=0)</pre></div></div></div></div></div>"
      ],
      "text/plain": [
       "LogisticRegression(random_state=0)"
      ]
     },
     "execution_count": 38,
     "metadata": {},
     "output_type": "execute_result"
    }
   ],
   "source": [
    "%%time\n",
    "model = LogisticRegression(random_state = 0)\n",
    "model.fit(features, train_data['physician'])"
   ]
  },
  {
   "cell_type": "code",
   "execution_count": 39,
   "metadata": {
    "colab": {
     "base_uri": "https://localhost:8080/",
     "height": 348
    },
    "execution": {
     "iopub.execute_input": "2022-05-31T08:44:48.566715Z",
     "iopub.status.busy": "2022-05-31T08:44:48.566008Z",
     "iopub.status.idle": "2022-05-31T08:45:13.941652Z",
     "shell.execute_reply": "2022-05-31T08:45:13.940635Z"
    },
    "id": "7c49671b",
    "outputId": "11da270b-c423-444b-d6a8-8810bfdf82a0",
    "papermill": {
     "duration": 25.422148,
     "end_time": "2022-05-31T08:45:13.944522",
     "exception": false,
     "start_time": "2022-05-31T08:44:48.522374",
     "status": "completed"
    },
    "tags": []
   },
   "outputs": [
    {
     "name": "stderr",
     "output_type": "stream",
     "text": [
      "/opt/conda/lib/python3.10/site-packages/sklearn/feature_extraction/text.py:528: UserWarning: The parameter 'token_pattern' will not be used since 'tokenizer' is not None'\n",
      "  warnings.warn(\n"
     ]
    },
    {
     "name": "stdout",
     "output_type": "stream",
     "text": [
      "CPU times: user 19min 24s, sys: 1min 25s, total: 20min 49s\n",
      "Wall time: 2min 47s\n"
     ]
    },
    {
     "name": "stderr",
     "output_type": "stream",
     "text": [
      "/opt/conda/lib/python3.10/site-packages/sklearn/linear_model/_logistic.py:458: ConvergenceWarning: lbfgs failed to converge (status=1):\n",
      "STOP: TOTAL NO. of ITERATIONS REACHED LIMIT.\n",
      "\n",
      "Increase the number of iterations (max_iter) or scale the data as shown in:\n",
      "    https://scikit-learn.org/stable/modules/preprocessing.html\n",
      "Please also refer to the documentation for alternative solver options:\n",
      "    https://scikit-learn.org/stable/modules/linear_model.html#logistic-regression\n",
      "  n_iter_i = _check_optimize_result(\n"
     ]
    },
    {
     "data": {
      "text/html": [
       "<style>#sk-container-id-5 {color: black;background-color: white;}#sk-container-id-5 pre{padding: 0;}#sk-container-id-5 div.sk-toggleable {background-color: white;}#sk-container-id-5 label.sk-toggleable__label {cursor: pointer;display: block;width: 100%;margin-bottom: 0;padding: 0.3em;box-sizing: border-box;text-align: center;}#sk-container-id-5 label.sk-toggleable__label-arrow:before {content: \"▸\";float: left;margin-right: 0.25em;color: #696969;}#sk-container-id-5 label.sk-toggleable__label-arrow:hover:before {color: black;}#sk-container-id-5 div.sk-estimator:hover label.sk-toggleable__label-arrow:before {color: black;}#sk-container-id-5 div.sk-toggleable__content {max-height: 0;max-width: 0;overflow: hidden;text-align: left;background-color: #f0f8ff;}#sk-container-id-5 div.sk-toggleable__content pre {margin: 0.2em;color: black;border-radius: 0.25em;background-color: #f0f8ff;}#sk-container-id-5 input.sk-toggleable__control:checked~div.sk-toggleable__content {max-height: 200px;max-width: 100%;overflow: auto;}#sk-container-id-5 input.sk-toggleable__control:checked~label.sk-toggleable__label-arrow:before {content: \"▾\";}#sk-container-id-5 div.sk-estimator input.sk-toggleable__control:checked~label.sk-toggleable__label {background-color: #d4ebff;}#sk-container-id-5 div.sk-label input.sk-toggleable__control:checked~label.sk-toggleable__label {background-color: #d4ebff;}#sk-container-id-5 input.sk-hidden--visually {border: 0;clip: rect(1px 1px 1px 1px);clip: rect(1px, 1px, 1px, 1px);height: 1px;margin: -1px;overflow: hidden;padding: 0;position: absolute;width: 1px;}#sk-container-id-5 div.sk-estimator {font-family: monospace;background-color: #f0f8ff;border: 1px dotted black;border-radius: 0.25em;box-sizing: border-box;margin-bottom: 0.5em;}#sk-container-id-5 div.sk-estimator:hover {background-color: #d4ebff;}#sk-container-id-5 div.sk-parallel-item::after {content: \"\";width: 100%;border-bottom: 1px solid gray;flex-grow: 1;}#sk-container-id-5 div.sk-label:hover label.sk-toggleable__label {background-color: #d4ebff;}#sk-container-id-5 div.sk-serial::before {content: \"\";position: absolute;border-left: 1px solid gray;box-sizing: border-box;top: 0;bottom: 0;left: 50%;z-index: 0;}#sk-container-id-5 div.sk-serial {display: flex;flex-direction: column;align-items: center;background-color: white;padding-right: 0.2em;padding-left: 0.2em;position: relative;}#sk-container-id-5 div.sk-item {position: relative;z-index: 1;}#sk-container-id-5 div.sk-parallel {display: flex;align-items: stretch;justify-content: center;background-color: white;position: relative;}#sk-container-id-5 div.sk-item::before, #sk-container-id-5 div.sk-parallel-item::before {content: \"\";position: absolute;border-left: 1px solid gray;box-sizing: border-box;top: 0;bottom: 0;left: 50%;z-index: -1;}#sk-container-id-5 div.sk-parallel-item {display: flex;flex-direction: column;z-index: 1;position: relative;background-color: white;}#sk-container-id-5 div.sk-parallel-item:first-child::after {align-self: flex-end;width: 50%;}#sk-container-id-5 div.sk-parallel-item:last-child::after {align-self: flex-start;width: 50%;}#sk-container-id-5 div.sk-parallel-item:only-child::after {width: 0;}#sk-container-id-5 div.sk-dashed-wrapped {border: 1px dashed gray;margin: 0 0.4em 0.5em 0.4em;box-sizing: border-box;padding-bottom: 0.4em;background-color: white;}#sk-container-id-5 div.sk-label label {font-family: monospace;font-weight: bold;display: inline-block;line-height: 1.2em;}#sk-container-id-5 div.sk-label-container {text-align: center;}#sk-container-id-5 div.sk-container {/* jupyter's `normalize.less` sets `[hidden] { display: none; }` but bootstrap.min.css set `[hidden] { display: none !important; }` so we also need the `!important` here to be able to override the default hidden behavior on the sphinx rendered scikit-learn.org. See: https://github.com/scikit-learn/scikit-learn/issues/21755 */display: inline-block !important;position: relative;}#sk-container-id-5 div.sk-text-repr-fallback {display: none;}</style><div id=\"sk-container-id-5\" class=\"sk-top-container\"><div class=\"sk-text-repr-fallback\"><pre>Pipeline(steps=[(&#x27;vectorizer&#x27;,\n",
       "                 TfidfVectorizer(tokenizer=&lt;function &lt;lambda&gt; at 0x7f016876ae60&gt;)),\n",
       "                (&#x27;model&#x27;, LogisticRegression(random_state=0))])</pre><b>In a Jupyter environment, please rerun this cell to show the HTML representation or trust the notebook. <br />On GitHub, the HTML representation is unable to render, please try loading this page with nbviewer.org.</b></div><div class=\"sk-container\" hidden><div class=\"sk-item sk-dashed-wrapped\"><div class=\"sk-label-container\"><div class=\"sk-label sk-toggleable\"><input class=\"sk-toggleable__control sk-hidden--visually\" id=\"sk-estimator-id-14\" type=\"checkbox\" ><label for=\"sk-estimator-id-14\" class=\"sk-toggleable__label sk-toggleable__label-arrow\">Pipeline</label><div class=\"sk-toggleable__content\"><pre>Pipeline(steps=[(&#x27;vectorizer&#x27;,\n",
       "                 TfidfVectorizer(tokenizer=&lt;function &lt;lambda&gt; at 0x7f016876ae60&gt;)),\n",
       "                (&#x27;model&#x27;, LogisticRegression(random_state=0))])</pre></div></div></div><div class=\"sk-serial\"><div class=\"sk-item\"><div class=\"sk-estimator sk-toggleable\"><input class=\"sk-toggleable__control sk-hidden--visually\" id=\"sk-estimator-id-15\" type=\"checkbox\" ><label for=\"sk-estimator-id-15\" class=\"sk-toggleable__label sk-toggleable__label-arrow\">TfidfVectorizer</label><div class=\"sk-toggleable__content\"><pre>TfidfVectorizer(tokenizer=&lt;function &lt;lambda&gt; at 0x7f016876ae60&gt;)</pre></div></div></div><div class=\"sk-item\"><div class=\"sk-estimator sk-toggleable\"><input class=\"sk-toggleable__control sk-hidden--visually\" id=\"sk-estimator-id-16\" type=\"checkbox\" ><label for=\"sk-estimator-id-16\" class=\"sk-toggleable__label sk-toggleable__label-arrow\">LogisticRegression</label><div class=\"sk-toggleable__content\"><pre>LogisticRegression(random_state=0)</pre></div></div></div></div></div></div></div>"
      ],
      "text/plain": [
       "Pipeline(steps=[('vectorizer',\n",
       "                 TfidfVectorizer(tokenizer=<function <lambda> at 0x7f016876ae60>)),\n",
       "                ('model', LogisticRegression(random_state=0))])"
      ]
     },
     "execution_count": 39,
     "metadata": {},
     "output_type": "execute_result"
    }
   ],
   "source": [
    "%%time\n",
    "model_pipeline = Pipeline([\n",
    "    ('vectorizer', TfidfVectorizer(tokenizer = lambda x: tokenize_sentence(x, remove_stop_words = True))),\n",
    "    ('model', LogisticRegression(random_state = 0))\n",
    "])\n",
    "\n",
    "model_pipeline.fit(train_data['text'], train_data['physician'])"
   ]
  },
  {
   "cell_type": "code",
   "execution_count": 40,
   "metadata": {
    "colab": {
     "base_uri": "https://localhost:8080/"
    },
    "id": "4g8z412Sswpk",
    "outputId": "6e29e029-2288-4c0a-c0b4-b9190a412078"
   },
   "outputs": [
    {
     "name": "stdout",
     "output_type": "stream",
     "text": [
      "accuracy 0.61046875\n",
      "                           precision    recall  f1-score   support\n",
      "\n",
      "                 невролог       0.57      0.08      0.14        52\n",
      "                кардиолог       0.47      0.24      0.32       171\n",
      "               дерматолог       0.66      0.23      0.35        81\n",
      "                      лор       0.38      0.13      0.19        23\n",
      "                   уролог       0.00      0.00      0.00         6\n",
      "                 терапевт       0.75      0.08      0.14        39\n",
      "             инфекционист       0.90      0.75      0.82       118\n",
      "                проктолог       0.00      0.00      0.00        19\n",
      "                  педиатр       0.71      0.80      0.75       379\n",
      "                гинеколог       0.54      0.29      0.38        85\n",
      "             кардиохирург       0.56      0.11      0.19        45\n",
      "          гастроэнтеролог       0.64      0.91      0.75       770\n",
      "         детский невролог       0.67      0.03      0.06        66\n",
      "              офтальмолог       0.00      0.00      0.00         2\n",
      "              нейрохирург       0.57      0.80      0.66       232\n",
      "                  онколог       0.00      0.00      0.00        14\n",
      "                   акушер       0.47      0.10      0.17        67\n",
      "                гематолог       0.40      0.04      0.07        53\n",
      "                гепатолог       0.55      0.35      0.43        93\n",
      "             эндокринолог       0.00      0.00      0.00        22\n",
      "                 маммолог       0.00      0.00      0.00        30\n",
      "               стоматолог       1.00      0.20      0.33        15\n",
      "       детский дерматолог       0.58      0.46      0.52       179\n",
      "                 психолог       0.74      0.80      0.77       286\n",
      "   гинеколог-эндокринолог       0.00      0.00      0.00        10\n",
      "        детский гинеколог       0.00      0.00      0.00        11\n",
      "               ревматолог       0.00      0.00      0.00         5\n",
      "           детский хирург       0.69      0.61      0.65       215\n",
      "                 врач кдл       0.74      0.44      0.55        52\n",
      "анестезиолог-реаниматолог       0.00      0.00      0.00         3\n",
      "                   хирург       0.00      0.00      0.00         1\n",
      "                 психиатр       0.00      0.00      0.00        13\n",
      "                 нефролог       0.56      0.79      0.65       378\n",
      "              травматолог       0.71      0.15      0.24        34\n",
      "              детский лор       1.00      0.08      0.15        25\n",
      "                  ортопед       0.61      0.38      0.47        98\n",
      "                 трихолог       0.00      0.00      0.00        14\n",
      "              пульмонолог       0.50      0.17      0.25        36\n",
      "     аллерголог-иммунолог       0.85      0.84      0.85       173\n",
      "                 фтизиатр       0.62      0.91      0.74       774\n",
      "                ветеринар       0.00      0.00      0.00         6\n",
      "       детский стоматолог       0.87      0.53      0.66        51\n",
      "                 флеболог       0.54      0.40      0.46        85\n",
      "                 covid-19       0.66      0.75      0.70        84\n",
      "            психотерапевт       0.57      0.12      0.20        66\n",
      "                 ортодонт       0.61      0.44      0.51        82\n",
      "        хирург-стоматолог       0.60      0.12      0.20        50\n",
      "                фармацевт       0.00      0.00      0.00        15\n",
      "                венеролог       0.00      0.00      0.00         3\n",
      "                 андролог       0.00      0.00      0.00         7\n",
      "               косметолог       0.00      0.00      0.00         2\n",
      "                 диетолог       0.00      0.00      0.00        18\n",
      "              рентгенолог       0.46      0.62      0.53        58\n",
      "                 сомнолог       0.33      0.41      0.37       470\n",
      "        сосудистый хирург       0.60      0.54      0.57        61\n",
      "                  логопед       1.00      0.40      0.57         5\n",
      "                 сексолог       0.66      0.60      0.63       162\n",
      "            репродуктолог       0.00      0.00      0.00        11\n",
      "      пластический хирург       0.00      0.00      0.00         2\n",
      "      мануальный терапевт       0.00      0.00      0.00        20\n",
      "                 нарколог       0.75      0.14      0.23        22\n",
      "                массажист       0.48      0.46      0.47       136\n",
      "            физиотерапевт       0.00      0.00      0.00        14\n",
      "                 гомеопат       0.74      0.79      0.76       281\n",
      "\n",
      "                 accuracy                           0.61      6400\n",
      "                macro avg       0.41      0.27      0.29      6400\n",
      "             weighted avg       0.59      0.61      0.57      6400\n",
      "\n"
     ]
    },
    {
     "name": "stderr",
     "output_type": "stream",
     "text": [
      "/opt/conda/lib/python3.10/site-packages/sklearn/metrics/_classification.py:1344: UndefinedMetricWarning: Precision and F-score are ill-defined and being set to 0.0 in labels with no predicted samples. Use `zero_division` parameter to control this behavior.\n",
      "  _warn_prf(average, modifier, msg_start, len(result))\n",
      "/opt/conda/lib/python3.10/site-packages/sklearn/metrics/_classification.py:1344: UndefinedMetricWarning: Precision and F-score are ill-defined and being set to 0.0 in labels with no predicted samples. Use `zero_division` parameter to control this behavior.\n",
      "  _warn_prf(average, modifier, msg_start, len(result))\n",
      "/opt/conda/lib/python3.10/site-packages/sklearn/metrics/_classification.py:1344: UndefinedMetricWarning: Precision and F-score are ill-defined and being set to 0.0 in labels with no predicted samples. Use `zero_division` parameter to control this behavior.\n",
      "  _warn_prf(average, modifier, msg_start, len(result))\n"
     ]
    }
   ],
   "source": [
    "print('accuracy %s' % accuracy_score(model_pipeline.predict(test_data['text']), test_data['physician']))\n",
    "print(classification_report(test_data['physician'], model_pipeline.predict(test_data['text']), target_names=test_data['physician'].unique()))"
   ]
  },
  {
   "cell_type": "markdown",
   "metadata": {
    "id": "2DP6wwP1ueqw"
   },
   "source": [
    "Accuracy: 0.61\n",
    "\n",
    "The same performance. Let's predict some simple phrases:"
   ]
  },
  {
   "cell_type": "code",
   "execution_count": 41,
   "metadata": {
    "colab": {
     "base_uri": "https://localhost:8080/"
    },
    "execution": {
     "iopub.execute_input": "2022-05-31T08:45:14.102797Z",
     "iopub.status.busy": "2022-05-31T08:45:14.102353Z",
     "iopub.status.idle": "2022-05-31T08:45:14.112306Z",
     "shell.execute_reply": "2022-05-31T08:45:14.111364Z"
    },
    "id": "3ff44611",
    "outputId": "24670fbb-6469-4861-e01c-dfaa6f00131b",
    "papermill": {
     "duration": 0.05737,
     "end_time": "2022-05-31T08:45:14.115104",
     "exception": false,
     "start_time": "2022-05-31T08:45:14.057734",
     "status": "completed"
    },
    "tags": []
   },
   "outputs": [
    {
     "data": {
      "text/plain": [
       "array(['терапевт'], dtype=object)"
      ]
     },
     "execution_count": 41,
     "metadata": {},
     "output_type": "execute_result"
    }
   ],
   "source": [
    "model_pipeline.predict([\"Здравствуйте. Обращалась по своей проблеме недавно, посоветовали антидепрессант Дулоксетин, начала его принимать по 30 мг (1 капсула), ничем не прикрывалась, побочек было мало, боль на 7 день действительно ушла, и я наконец то почувствовала себя человеком. Теперь волнует такой вопрос, нужно ли повышать дозировку, какое время употреблять, и не вернется ли боль? И с какими таблетками можно его сочетать? Взяла некоторые обезболивающие так там написано, что нельзя с антидепресантами употреблять. Пенталгин, парацетамол, аспирин, найз всё нельзя, а если температура, грипп, что можно?\"])"
   ]
  },
  {
   "cell_type": "code",
   "execution_count": 42,
   "metadata": {
    "colab": {
     "base_uri": "https://localhost:8080/"
    },
    "execution": {
     "iopub.execute_input": "2022-05-31T08:45:14.211089Z",
     "iopub.status.busy": "2022-05-31T08:45:14.210388Z",
     "iopub.status.idle": "2022-05-31T08:45:14.219886Z",
     "shell.execute_reply": "2022-05-31T08:45:14.219130Z"
    },
    "id": "b331c1f6",
    "outputId": "542a926f-b926-4373-f386-cbb0db4f1aa7",
    "papermill": {
     "duration": 0.057891,
     "end_time": "2022-05-31T08:45:14.221846",
     "exception": false,
     "start_time": "2022-05-31T08:45:14.163955",
     "status": "completed"
    },
    "tags": []
   },
   "outputs": [
    {
     "data": {
      "text/plain": [
       "array(['кардиолог'], dtype=object)"
      ]
     },
     "execution_count": 42,
     "metadata": {},
     "output_type": "execute_result"
    }
   ],
   "source": [
    "model_pipeline.predict([\"Проблема с сердцем\"])"
   ]
  },
  {
   "cell_type": "code",
   "execution_count": 43,
   "metadata": {
    "colab": {
     "base_uri": "https://localhost:8080/"
    },
    "id": "tldhpBWYhExo",
    "outputId": "69024503-f8c2-4d15-c346-21875db47e93"
   },
   "outputs": [
    {
     "data": {
      "text/plain": [
       "array(['невролог'], dtype=object)"
      ]
     },
     "execution_count": 43,
     "metadata": {},
     "output_type": "execute_result"
    }
   ],
   "source": [
    "model_pipeline.predict([\"Проблема с нервами\"])"
   ]
  },
  {
   "cell_type": "code",
   "execution_count": 44,
   "metadata": {
    "colab": {
     "base_uri": "https://localhost:8080/"
    },
    "id": "JERV24PSu6t0",
    "outputId": "de658e3b-a954-4c53-93d8-c2d6fbb8558d"
   },
   "outputs": [
    {
     "data": {
      "text/plain": [
       "array(['травматолог'], dtype=object)"
      ]
     },
     "execution_count": 44,
     "metadata": {},
     "output_type": "execute_result"
    }
   ],
   "source": [
    "model_pipeline.predict([\"Сломалась кость руки\"])"
   ]
  },
  {
   "cell_type": "markdown",
   "metadata": {
    "id": "sdyaW2N_vA1k"
   },
   "source": [
    "Model predicts better"
   ]
  },
  {
   "cell_type": "markdown",
   "metadata": {
    "id": "dvMvs1xEhExt"
   },
   "source": [
    "## Simple neural network using nlp technique called bag of words"
   ]
  },
  {
   "cell_type": "code",
   "execution_count": 12,
   "metadata": {
    "id": "BZ3xwRWWhExt"
   },
   "outputs": [
    {
     "name": "stderr",
     "output_type": "stream",
     "text": [
      "2023-03-29 12:22:59.804306: I tensorflow/tsl/cuda/cudart_stub.cc:28] Could not find cuda drivers on your machine, GPU will not be used.\n",
      "2023-03-29 12:22:59.983654: I tensorflow/tsl/cuda/cudart_stub.cc:28] Could not find cuda drivers on your machine, GPU will not be used.\n",
      "2023-03-29 12:22:59.984616: I tensorflow/core/platform/cpu_feature_guard.cc:182] This TensorFlow binary is optimized to use available CPU instructions in performance-critical operations.\n",
      "To enable the following instructions: AVX2 FMA, in other operations, rebuild TensorFlow with the appropriate compiler flags.\n",
      "2023-03-29 12:23:00.944522: W tensorflow/compiler/tf2tensorrt/utils/py_utils.cc:38] TF-TRT Warning: Could not find TensorRT\n"
     ]
    }
   ],
   "source": [
    "import tensorflow as tf\n",
    "from tensorflow import keras\n",
    "from keras.models import Sequential\n",
    "from keras.layers import Dense, Activation, Dropout\n",
    "from keras.preprocessing import text, sequence\n",
    "from keras import utils\n",
    "\n",
    "from sklearn.preprocessing import LabelBinarizer, LabelEncoder\n",
    "from sklearn.metrics import confusion_matrix"
   ]
  },
  {
   "cell_type": "code",
   "execution_count": 13,
   "metadata": {
    "colab": {
     "base_uri": "https://localhost:8080/"
    },
    "id": "KQ9WDuJchExt",
    "outputId": "bcd62e9e-33f0-414b-db79-04530d7f6347"
   },
   "outputs": [
    {
     "name": "stdout",
     "output_type": "stream",
     "text": [
      "Train size: 25412\n",
      "Test size: 6353\n"
     ]
    }
   ],
   "source": [
    "train_size = int(len(df) * .8)\n",
    "print (\"Train size: %d\" % train_size)\n",
    "print (\"Test size: %d\" % (len(df) - train_size))"
   ]
  },
  {
   "cell_type": "code",
   "execution_count": 14,
   "metadata": {
    "id": "S5T5K_4EhExu"
   },
   "outputs": [],
   "source": [
    "train_posts = df['text'][:train_size]\n",
    "train_tags = df['physician'][:train_size]\n",
    "\n",
    "test_posts = df['text'][train_size:]\n",
    "test_tags = df['physician'][train_size:]"
   ]
  },
  {
   "cell_type": "code",
   "execution_count": 15,
   "metadata": {
    "id": "LHDdulsShExu"
   },
   "outputs": [],
   "source": [
    "max_words = 5000\n",
    "# max_words = 1000\n",
    "tokenize = text.Tokenizer(num_words=max_words, char_level=False)"
   ]
  },
  {
   "cell_type": "code",
   "execution_count": 16,
   "metadata": {
    "id": "dCjp0PaqhExu"
   },
   "outputs": [],
   "source": [
    "tokenize.fit_on_texts(train_posts) # only fit on train\n",
    "x_train = tokenize.texts_to_matrix(train_posts)\n",
    "x_test = tokenize.texts_to_matrix(test_posts)"
   ]
  },
  {
   "cell_type": "code",
   "execution_count": 17,
   "metadata": {
    "id": "Ea8afGgPhExu"
   },
   "outputs": [],
   "source": [
    "encoder = LabelEncoder()\n",
    "encoder.fit(train_tags)\n",
    "y_train = encoder.transform(train_tags)\n",
    "y_test = encoder.transform(test_tags)"
   ]
  },
  {
   "cell_type": "code",
   "execution_count": 18,
   "metadata": {
    "id": "peT1siIDhExu"
   },
   "outputs": [],
   "source": [
    "num_classes = np.max(y_train) + 1\n",
    "y_train = utils.to_categorical(y_train, num_classes)\n",
    "y_test = utils.to_categorical(y_test, num_classes)"
   ]
  },
  {
   "cell_type": "code",
   "execution_count": 19,
   "metadata": {
    "colab": {
     "base_uri": "https://localhost:8080/"
    },
    "id": "9Wx5CcA8hExu",
    "outputId": "0808eeec-2131-41e2-fe21-940efb5e5d36"
   },
   "outputs": [
    {
     "name": "stdout",
     "output_type": "stream",
     "text": [
      "x_train shape: (25412, 5000)\n",
      "x_test shape: (6353, 5000)\n",
      "y_train shape: (25412, 64)\n",
      "y_test shape: (6353, 64)\n"
     ]
    }
   ],
   "source": [
    "print('x_train shape:', x_train.shape)\n",
    "print('x_test shape:', x_test.shape)\n",
    "print('y_train shape:', y_train.shape)\n",
    "print('y_test shape:', y_test.shape)"
   ]
  },
  {
   "cell_type": "code",
   "execution_count": 25,
   "metadata": {
    "id": "W-ie1_b9hExv"
   },
   "outputs": [],
   "source": [
    "batch_size = 32\n",
    "epochs = 3\n",
    "\n",
    "# Build the model\n",
    "model = Sequential()\n",
    "model.add(Dense(512, input_shape=(max_words,)))\n",
    "model.add(Activation('relu'))\n",
    "model.add(Dropout(0.5))\n",
    "model.add(Dense(num_classes))\n",
    "model.add(Activation('softmax'))\n",
    "\n",
    "model.compile(loss='categorical_crossentropy',\n",
    "              optimizer='adam',\n",
    "              metrics=['accuracy'])"
   ]
  },
  {
   "cell_type": "code",
   "execution_count": 26,
   "metadata": {
    "colab": {
     "base_uri": "https://localhost:8080/"
    },
    "id": "EdgaX2_HhExv",
    "outputId": "94922cd3-be43-4eb1-a71e-1c661c559e13"
   },
   "outputs": [
    {
     "name": "stdout",
     "output_type": "stream",
     "text": [
      "Epoch 1/3\n",
      "715/715 [==============================] - 12s 17ms/step - loss: 2.1061 - accuracy: 0.4937 - val_loss: 1.6330 - val_accuracy: 0.5669\n",
      "Epoch 2/3\n",
      "715/715 [==============================] - 12s 16ms/step - loss: 1.0792 - accuracy: 0.7003 - val_loss: 1.5460 - val_accuracy: 0.5685\n",
      "Epoch 3/3\n",
      "715/715 [==============================] - 11s 16ms/step - loss: 0.6798 - accuracy: 0.8068 - val_loss: 1.6106 - val_accuracy: 0.5747\n",
      "CPU times: user 10min 23s, sys: 1min 19s, total: 11min 42s\n",
      "Wall time: 35.8 s\n"
     ]
    }
   ],
   "source": [
    "%%time\n",
    "history = model.fit(x_train, y_train,\n",
    "                    batch_size=batch_size,\n",
    "                    epochs=epochs,\n",
    "                    verbose=1,\n",
    "                    validation_split=0.1)"
   ]
  },
  {
   "cell_type": "code",
   "execution_count": 28,
   "metadata": {
    "colab": {
     "base_uri": "https://localhost:8080/"
    },
    "id": "3sY4OZujhExv",
    "outputId": "0a702620-5c49-4645-9d10-d057143efb06"
   },
   "outputs": [
    {
     "name": "stdout",
     "output_type": "stream",
     "text": [
      "199/199 [==============================] - 0s 2ms/step - loss: 1.6199 - accuracy: 0.5679\n",
      "Test accuracy: 0.5679206848144531\n"
     ]
    }
   ],
   "source": [
    "score = model.evaluate(x_test, y_test,\n",
    "                       batch_size=batch_size, verbose=1)\n",
    "print('Test accuracy:', score[1])"
   ]
  },
  {
   "cell_type": "markdown",
   "metadata": {
    "id": "gzQ6YlIUyOYY"
   },
   "source": [
    "Accuracy: 0.6\n",
    "\n",
    "Slightly worse than log. regression"
   ]
  },
  {
   "cell_type": "markdown",
   "metadata": {},
   "source": [
    "### Using transformers"
   ]
  },
  {
   "cell_type": "code",
   "execution_count": 3,
   "metadata": {},
   "outputs": [
    {
     "name": "stderr",
     "output_type": "stream",
     "text": [
      "/tmp/ipykernel_890/2463157460.py:1: FutureWarning: The error_bad_lines argument has been deprecated and will be removed in a future version. Use on_bad_lines in the future.\n",
      "\n",
      "\n",
      "  df = pd.read_csv(FILE_PATH, delimiter=';', error_bad_lines=False, names=['physician', 'text'], header=None)\n"
     ]
    }
   ],
   "source": [
    "df = pd.read_csv(FILE_PATH, delimiter=';', error_bad_lines=False, names=['physician', 'text'], header=None)"
   ]
  },
  {
   "cell_type": "code",
   "execution_count": 4,
   "metadata": {},
   "outputs": [],
   "source": [
    "import torch"
   ]
  },
  {
   "cell_type": "code",
   "execution_count": 5,
   "metadata": {},
   "outputs": [],
   "source": [
    "model_name = 'DeepPavlov/rubert-base-cased'\n",
    "#'sberbank-ai/sbert_large_nlu_ru' \n",
    "\n",
    "RuBERT (Russian, cased, 12‑layer, 768‑hidden, 12‑heads, 180M parameters) \n",
    "was trained on the Russian part of Wikipedia and news data. \n",
    "The part of Wikipedia data was around 80%.\n",
    "\n"
   ]
  },
  {
   "cell_type": "code",
   "execution_count": 6,
   "metadata": {},
   "outputs": [],
   "source": [
    "# Define the labels\n",
    "labels = list(set(df[\"physician\"]))\n",
    "\n",
    "# Encode the labels\n",
    "label2id = {label: i for i, label in enumerate(labels)}\n",
    "id2label = {i: label for label, i in label2id.items()}"
   ]
  },
  {
   "cell_type": "code",
   "execution_count": 7,
   "metadata": {},
   "outputs": [],
   "source": [
    "from transformers import AutoTokenizer\n",
    "\n",
    "tokenizer = AutoTokenizer.from_pretrained(model_name)\n",
    "\n",
    "def tokenize_text(text):\n",
    "    return tokenizer.encode_plus(text, \n",
    "                                 add_special_tokens=True, \n",
    "                                 truncation=True, \n",
    "                                 padding=\"max_length\", \n",
    "                                 max_length=128, \n",
    "                                 return_tensors=\"pt\")\n",
    "\n",
    "df_texts = df[\"text\"].tolist()\n",
    "df_labels = [label2id[label] for label in df[\"physician\"].tolist()]"
   ]
  },
  {
   "cell_type": "code",
   "execution_count": 8,
   "metadata": {},
   "outputs": [],
   "source": [
    "df_encodings = tokenizer.batch_encode_plus(df_texts, \n",
    "                                           add_special_tokens=True, \n",
    "                                           truncation=True, \n",
    "                                           padding=\"max_length\", \n",
    "                                           max_length=128, \n",
    "                                           return_tensors=\"pt\")\n",
    "\n",
    "df_dataset = torch.utils.data.TensorDataset(df_encodings[\"input_ids\"], \n",
    "                                            df_encodings[\"attention_mask\"], \n",
    "                                            torch.tensor(df_labels))"
   ]
  },
  {
   "cell_type": "code",
   "execution_count": 9,
   "metadata": {},
   "outputs": [
    {
     "name": "stderr",
     "output_type": "stream",
     "text": [
      "Some weights of the model checkpoint at DeepPavlov/rubert-base-cased were not used when initializing BertForSequenceClassification: ['cls.seq_relationship.weight', 'cls.predictions.bias', 'cls.predictions.transform.LayerNorm.bias', 'cls.predictions.decoder.bias', 'cls.predictions.transform.dense.bias', 'cls.predictions.decoder.weight', 'cls.seq_relationship.bias', 'cls.predictions.transform.dense.weight', 'cls.predictions.transform.LayerNorm.weight']\n",
      "- This IS expected if you are initializing BertForSequenceClassification from the checkpoint of a model trained on another task or with another architecture (e.g. initializing a BertForSequenceClassification model from a BertForPreTraining model).\n",
      "- This IS NOT expected if you are initializing BertForSequenceClassification from the checkpoint of a model that you expect to be exactly identical (initializing a BertForSequenceClassification model from a BertForSequenceClassification model).\n",
      "Some weights of BertForSequenceClassification were not initialized from the model checkpoint at DeepPavlov/rubert-base-cased and are newly initialized: ['classifier.bias', 'classifier.weight']\n",
      "You should probably TRAIN this model on a down-stream task to be able to use it for predictions and inference.\n"
     ]
    }
   ],
   "source": [
    "from transformers import AutoModelForSequenceClassification\n",
    "\n",
    "model = AutoModelForSequenceClassification.from_pretrained(model_name, \n",
    "                                                            num_labels=len(label2id))"
   ]
  },
  {
   "cell_type": "code",
   "execution_count": 10,
   "metadata": {},
   "outputs": [
    {
     "data": {
      "text/plain": [
       "device(type='cuda')"
      ]
     },
     "execution_count": 10,
     "metadata": {},
     "output_type": "execute_result"
    }
   ],
   "source": [
    "import torch.nn as nn\n",
    "import torch.optim as optim\n",
    "from sklearn.metrics import classification_report\n",
    "\n",
    "device = torch.device(\"cuda\" if torch.cuda.is_available() else \"cpu\")\n",
    "\n",
    "model.to(device)\n",
    "device"
   ]
  },
  {
   "cell_type": "code",
   "execution_count": 13,
   "metadata": {},
   "outputs": [
    {
     "name": "stdout",
     "output_type": "stream",
     "text": [
      "Training on fold 1...\n",
      "   Epoch 1...\n",
      "\tEpoch 1 loss: 1.8932112562248096\n",
      "   Epoch 2...\n",
      "\tEpoch 2 loss: 1.0846770472919645\n",
      "   Epoch 3...\n",
      "\tEpoch 3 loss: 0.6582304390836594\n",
      "   Epoch 4...\n",
      "\tEpoch 4 loss: 0.38864342117140444\n",
      "Epoch 00004: reducing learning rate of group 0 to 3.0000e-06.\n",
      "   Epoch 5...\n",
      "\tEpoch 5 loss: 0.1975367158017127\n",
      "\tClassification report on fold 1:\n",
      "              precision    recall  f1-score   support\n",
      "\n",
      "           0       0.75      0.72      0.74        58\n",
      "           1       0.88      0.88      0.88       129\n",
      "           2       0.41      0.31      0.35       101\n",
      "           3       0.62      0.59      0.60        22\n",
      "           4       0.25      0.10      0.14        30\n",
      "           5       0.74      0.67      0.70        55\n",
      "           6       0.32      0.35      0.34        74\n",
      "           7       0.00      0.00      0.00         6\n",
      "           8       0.75      0.72      0.73       105\n",
      "           9       0.00      0.00      0.00         3\n",
      "          10       0.72      0.62      0.67       242\n",
      "          11       0.33      0.13      0.19        23\n",
      "          12       0.67      0.69      0.68       198\n",
      "          13       0.72      0.81      0.76       961\n",
      "          14       0.50      0.12      0.20         8\n",
      "          15       0.73      0.50      0.59        22\n",
      "          16       1.00      0.11      0.20        18\n",
      "          17       0.67      0.53      0.59        19\n",
      "          18       0.00      0.00      0.00         7\n",
      "          19       0.49      0.41      0.45       177\n",
      "          20       0.79      0.76      0.77       352\n",
      "          21       0.45      0.32      0.37        81\n",
      "          22       0.25      0.19      0.22        42\n",
      "          23       1.00      0.14      0.25        14\n",
      "          24       0.57      0.70      0.63        66\n",
      "          25       0.67      0.71      0.69       274\n",
      "          26       0.00      0.00      0.00        13\n",
      "          27       0.79      0.77      0.78       359\n",
      "          28       0.00      0.00      0.00         2\n",
      "          29       0.86      0.46      0.60        13\n",
      "          30       0.25      0.33      0.29        21\n",
      "          31       0.54      0.57      0.56       122\n",
      "          32       0.64      0.52      0.57        90\n",
      "          33       0.60      0.49      0.54       238\n",
      "          34       0.40      0.40      0.40       224\n",
      "          35       0.86      0.85      0.85       198\n",
      "          36       0.62      0.70      0.66       443\n",
      "          37       0.61      0.66      0.64       125\n",
      "          38       0.50      0.38      0.43       108\n",
      "          39       0.48      0.37      0.42        27\n",
      "          40       0.00      0.00      0.00         7\n",
      "          41       0.65      0.50      0.57        52\n",
      "          42       0.46      0.60      0.52        95\n",
      "          43       0.65      0.53      0.58        99\n",
      "          44       0.57      0.63      0.60        19\n",
      "          45       0.48      0.42      0.45        69\n",
      "          46       0.75      0.78      0.77       958\n",
      "          47       0.42      0.30      0.35        91\n",
      "          48       0.44      0.45      0.44        47\n",
      "          49       0.00      0.00      0.00         1\n",
      "          50       0.60      0.50      0.55         6\n",
      "          51       0.52      0.43      0.47        69\n",
      "          52       0.30      0.32      0.31        38\n",
      "          53       1.00      0.82      0.90        11\n",
      "          54       0.00      0.00      0.00         2\n",
      "          55       0.43      0.60      0.50        47\n",
      "          56       0.36      0.48      0.41       596\n",
      "          57       0.70      0.67      0.69       431\n",
      "          58       0.33      0.10      0.15        10\n",
      "          59       0.80      0.59      0.68        27\n",
      "          60       0.55      0.50      0.52        24\n",
      "          61       0.40      0.40      0.40        25\n",
      "          62       0.48      0.42      0.45       132\n",
      "          63       0.30      0.19      0.23        16\n",
      "\n",
      "    accuracy                           0.63      7942\n",
      "   macro avg       0.51      0.43      0.45      7942\n",
      "weighted avg       0.63      0.63      0.62      7942\n",
      "\n",
      "Training on fold 2...\n",
      "   Epoch 1...\n"
     ]
    },
    {
     "name": "stderr",
     "output_type": "stream",
     "text": [
      "/opt/conda/lib/python3.10/site-packages/sklearn/metrics/_classification.py:1344: UndefinedMetricWarning: Precision and F-score are ill-defined and being set to 0.0 in labels with no predicted samples. Use `zero_division` parameter to control this behavior.\n",
      "  _warn_prf(average, modifier, msg_start, len(result))\n",
      "/opt/conda/lib/python3.10/site-packages/sklearn/metrics/_classification.py:1344: UndefinedMetricWarning: Precision and F-score are ill-defined and being set to 0.0 in labels with no predicted samples. Use `zero_division` parameter to control this behavior.\n",
      "  _warn_prf(average, modifier, msg_start, len(result))\n",
      "/opt/conda/lib/python3.10/site-packages/sklearn/metrics/_classification.py:1344: UndefinedMetricWarning: Precision and F-score are ill-defined and being set to 0.0 in labels with no predicted samples. Use `zero_division` parameter to control this behavior.\n",
      "  _warn_prf(average, modifier, msg_start, len(result))\n"
     ]
    },
    {
     "name": "stdout",
     "output_type": "stream",
     "text": [
      "\tEpoch 1 loss: 1.9332980366062205\n",
      "   Epoch 2...\n",
      "\tEpoch 2 loss: 0.90757528766039\n",
      "   Epoch 3...\n",
      "\tEpoch 3 loss: 0.5782591556846255\n",
      "   Epoch 4...\n",
      "\tEpoch 4 loss: 0.3882866923899319\n",
      "Epoch 00009: reducing learning rate of group 0 to 3.0000e-07.\n",
      "   Epoch 5...\n",
      "\tEpoch 5 loss: 0.2855049431188904\n",
      "\tClassification report on fold 2:\n",
      "              precision    recall  f1-score   support\n",
      "\n",
      "           0       0.92      0.99      0.95        69\n",
      "           1       1.00      0.98      0.99       127\n",
      "           2       0.85      0.90      0.88       134\n",
      "           3       1.00      0.89      0.94        18\n",
      "           4       0.00      0.00      0.00        26\n",
      "           5       0.98      1.00      0.99        53\n",
      "           6       0.87      0.80      0.83        74\n",
      "           7       0.00      0.00      0.00         5\n",
      "           8       0.93      0.99      0.96       101\n",
      "           9       0.00      0.00      0.00         5\n",
      "          10       0.95      1.00      0.97       213\n",
      "          11       0.00      0.00      0.00        19\n",
      "          12       0.93      0.99      0.96       203\n",
      "          13       0.97      0.98      0.98       984\n",
      "          14       1.00      0.17      0.29         6\n",
      "          15       1.00      0.83      0.91        12\n",
      "          16       0.33      0.11      0.17         9\n",
      "          17       1.00      0.07      0.12        15\n",
      "          18       0.00      0.00      0.00         4\n",
      "          19       0.93      0.99      0.96       152\n",
      "          20       0.95      0.99      0.97       353\n",
      "          21       0.93      0.93      0.93        67\n",
      "          22       0.78      0.83      0.81        48\n",
      "          23       0.83      0.56      0.67         9\n",
      "          24       0.86      0.99      0.92       101\n",
      "          25       0.93      0.99      0.96       263\n",
      "          26       0.00      0.00      0.00        10\n",
      "          27       0.97      1.00      0.98       348\n",
      "          28       0.00      0.00      0.00         1\n",
      "          29       1.00      0.33      0.50         6\n",
      "          30       0.96      0.64      0.77        42\n",
      "          31       0.86      0.88      0.87       120\n",
      "          32       0.94      0.93      0.94        91\n",
      "          33       0.94      0.95      0.94       229\n",
      "          34       0.96      0.97      0.97       214\n",
      "          35       1.00      1.00      1.00       202\n",
      "          36       0.97      0.97      0.97       483\n",
      "          37       0.93      1.00      0.96       116\n",
      "          38       0.95      0.88      0.91        91\n",
      "          39       0.71      0.85      0.77        26\n",
      "          40       0.00      0.00      0.00         4\n",
      "          41       0.93      0.92      0.92        72\n",
      "          42       0.88      0.84      0.86        62\n",
      "          43       0.89      0.97      0.93        99\n",
      "          44       0.94      0.76      0.84        21\n",
      "          45       0.91      0.91      0.91        46\n",
      "          46       0.98      0.99      0.98       981\n",
      "          47       0.78      0.88      0.83        78\n",
      "          48       0.86      0.88      0.87        57\n",
      "          50       0.83      0.83      0.83         6\n",
      "          51       0.92      0.85      0.88        71\n",
      "          52       1.00      0.66      0.79        38\n",
      "          53       1.00      0.25      0.40        12\n",
      "          54       0.00      0.00      0.00         2\n",
      "          55       0.86      0.88      0.87        67\n",
      "          56       0.93      0.95      0.94       552\n",
      "          57       0.96      0.99      0.97       508\n",
      "          58       0.00      0.00      0.00         7\n",
      "          59       0.91      0.94      0.92        31\n",
      "          60       1.00      0.82      0.90        22\n",
      "          61       0.50      0.85      0.63        20\n",
      "          62       0.94      0.93      0.94       116\n",
      "          63       0.00      0.00      0.00        20\n",
      "\n",
      "    accuracy                           0.94      7941\n",
      "   macro avg       0.75      0.69      0.70      7941\n",
      "weighted avg       0.93      0.94      0.93      7941\n",
      "\n",
      "Training on fold 3...\n",
      "   Epoch 1...\n"
     ]
    },
    {
     "name": "stderr",
     "output_type": "stream",
     "text": [
      "/opt/conda/lib/python3.10/site-packages/sklearn/metrics/_classification.py:1344: UndefinedMetricWarning: Precision and F-score are ill-defined and being set to 0.0 in labels with no predicted samples. Use `zero_division` parameter to control this behavior.\n",
      "  _warn_prf(average, modifier, msg_start, len(result))\n",
      "/opt/conda/lib/python3.10/site-packages/sklearn/metrics/_classification.py:1344: UndefinedMetricWarning: Precision and F-score are ill-defined and being set to 0.0 in labels with no predicted samples. Use `zero_division` parameter to control this behavior.\n",
      "  _warn_prf(average, modifier, msg_start, len(result))\n",
      "/opt/conda/lib/python3.10/site-packages/sklearn/metrics/_classification.py:1344: UndefinedMetricWarning: Precision and F-score are ill-defined and being set to 0.0 in labels with no predicted samples. Use `zero_division` parameter to control this behavior.\n",
      "  _warn_prf(average, modifier, msg_start, len(result))\n"
     ]
    },
    {
     "name": "stdout",
     "output_type": "stream",
     "text": [
      "\tEpoch 1 loss: 3.493103716339818\n",
      "   Epoch 2...\n",
      "\tEpoch 2 loss: 2.5441952018308673\n",
      "   Epoch 3...\n",
      "\tEpoch 3 loss: 2.0256310600494682\n",
      "   Epoch 4...\n",
      "\tEpoch 4 loss: 1.6799400614523263\n",
      "Epoch 00014: reducing learning rate of group 0 to 3.0000e-08.\n",
      "   Epoch 5...\n",
      "\tEpoch 5 loss: 1.5235868756446045\n",
      "\tClassification report on fold 3:\n",
      "              precision    recall  f1-score   support\n",
      "\n",
      "           0       1.00      0.36      0.53        64\n",
      "           1       1.00      1.00      1.00       137\n",
      "           2       0.91      0.79      0.84       107\n",
      "           3       0.00      0.00      0.00        14\n",
      "           4       0.00      0.00      0.00        30\n",
      "           5       0.00      0.00      0.00        59\n",
      "           6       0.00      0.00      0.00        90\n",
      "           7       0.00      0.00      0.00         3\n",
      "           8       0.99      1.00      1.00       113\n",
      "           9       0.00      0.00      0.00         4\n",
      "          10       0.97      0.99      0.98       222\n",
      "          11       0.00      0.00      0.00        20\n",
      "          12       0.83      0.97      0.90       203\n",
      "          13       0.80      1.00      0.89       953\n",
      "          14       0.00      0.00      0.00         5\n",
      "          15       0.00      0.00      0.00        15\n",
      "          16       0.00      0.00      0.00        14\n",
      "          17       0.00      0.00      0.00        11\n",
      "          18       0.00      0.00      0.00         3\n",
      "          19       0.78      0.97      0.86       165\n",
      "          20       0.80      1.00      0.89       333\n",
      "          21       1.00      0.03      0.06        60\n",
      "          22       0.00      0.00      0.00        54\n",
      "          23       0.00      0.00      0.00        11\n",
      "          24       0.78      0.97      0.86        86\n",
      "          25       0.74      0.99      0.85       289\n",
      "          26       0.00      0.00      0.00        10\n",
      "          27       0.97      1.00      0.98       346\n",
      "          28       0.00      0.00      0.00         1\n",
      "          29       0.00      0.00      0.00        12\n",
      "          30       0.00      0.00      0.00        26\n",
      "          31       0.97      0.88      0.92       104\n",
      "          32       0.99      0.89      0.94       101\n",
      "          33       0.81      0.98      0.89       244\n",
      "          34       0.99      0.77      0.87       234\n",
      "          35       0.89      1.00      0.94       199\n",
      "          36       0.86      1.00      0.92       492\n",
      "          37       0.69      0.12      0.20        92\n",
      "          38       1.00      0.73      0.84        99\n",
      "          39       0.00      0.00      0.00        34\n",
      "          40       0.00      0.00      0.00         3\n",
      "          41       1.00      0.27      0.43        66\n",
      "          42       0.00      0.00      0.00        87\n",
      "          43       0.88      0.93      0.90       111\n",
      "          44       0.00      0.00      0.00        17\n",
      "          45       0.00      0.00      0.00        44\n",
      "          46       0.85      1.00      0.92       962\n",
      "          47       0.88      0.65      0.75        71\n",
      "          48       0.00      0.00      0.00        49\n",
      "          49       0.00      0.00      0.00         2\n",
      "          50       0.00      0.00      0.00        15\n",
      "          51       0.85      0.18      0.29        62\n",
      "          52       0.00      0.00      0.00        38\n",
      "          53       0.00      0.00      0.00         7\n",
      "          55       0.46      0.98      0.63        53\n",
      "          56       0.84      0.98      0.91       602\n",
      "          57       0.79      1.00      0.88       465\n",
      "          58       0.00      0.00      0.00        11\n",
      "          59       0.00      0.00      0.00        25\n",
      "          60       0.00      0.00      0.00        27\n",
      "          61       0.00      0.00      0.00        18\n",
      "          62       0.67      0.85      0.75       129\n",
      "          63       0.00      0.00      0.00        18\n",
      "\n",
      "    accuracy                           0.84      7941\n",
      "   macro avg       0.41      0.39      0.37      7941\n",
      "weighted avg       0.77      0.84      0.79      7941\n",
      "\n",
      "Training on fold 4...\n",
      "   Epoch 1...\n"
     ]
    },
    {
     "name": "stderr",
     "output_type": "stream",
     "text": [
      "/opt/conda/lib/python3.10/site-packages/sklearn/metrics/_classification.py:1344: UndefinedMetricWarning: Precision and F-score are ill-defined and being set to 0.0 in labels with no predicted samples. Use `zero_division` parameter to control this behavior.\n",
      "  _warn_prf(average, modifier, msg_start, len(result))\n",
      "/opt/conda/lib/python3.10/site-packages/sklearn/metrics/_classification.py:1344: UndefinedMetricWarning: Precision and F-score are ill-defined and being set to 0.0 in labels with no predicted samples. Use `zero_division` parameter to control this behavior.\n",
      "  _warn_prf(average, modifier, msg_start, len(result))\n",
      "/opt/conda/lib/python3.10/site-packages/sklearn/metrics/_classification.py:1344: UndefinedMetricWarning: Precision and F-score are ill-defined and being set to 0.0 in labels with no predicted samples. Use `zero_division` parameter to control this behavior.\n",
      "  _warn_prf(average, modifier, msg_start, len(result))\n"
     ]
    },
    {
     "name": "stdout",
     "output_type": "stream",
     "text": [
      "\tEpoch 1 loss: 4.008485686466789\n",
      "   Epoch 2...\n",
      "\tEpoch 2 loss: 3.8170369316700565\n",
      "   Epoch 3...\n",
      "\tEpoch 3 loss: 3.6468698419605508\n",
      "   Epoch 4...\n",
      "\tEpoch 4 loss: 3.497303545755216\n",
      "Epoch 00019: reducing learning rate of group 0 to 3.0000e-09.\n",
      "   Epoch 5...\n",
      "\tEpoch 5 loss: 3.42228556287777\n",
      "\tClassification report on fold 4:\n",
      "              precision    recall  f1-score   support\n",
      "\n",
      "           0       0.00      0.00      0.00        67\n",
      "           1       0.00      0.00      0.00       147\n",
      "           2       0.00      0.00      0.00       114\n",
      "           3       0.00      0.00      0.00        15\n",
      "           4       0.00      0.00      0.00        23\n",
      "           5       0.00      0.00      0.00        52\n",
      "           6       0.00      0.02      0.01        83\n",
      "           7       0.00      0.00      0.00         4\n",
      "           8       0.00      0.00      0.00       110\n",
      "           9       0.00      0.00      0.00         9\n",
      "          10       0.00      0.00      0.00       225\n",
      "          11       0.00      0.00      0.00        19\n",
      "          12       0.89      0.70      0.78       181\n",
      "          13       0.71      1.00      0.83       946\n",
      "          14       0.00      0.00      0.00         7\n",
      "          15       0.00      0.00      0.00        11\n",
      "          16       0.00      0.00      0.00        17\n",
      "          17       0.00      0.00      0.00        13\n",
      "          18       0.00      0.00      0.00         7\n",
      "          19       0.20      0.99      0.33       179\n",
      "          20       0.88      0.42      0.57       365\n",
      "          21       0.00      0.00      0.00        67\n",
      "          22       0.00      0.00      0.00        60\n",
      "          23       0.00      0.00      0.00        13\n",
      "          24       0.00      0.00      0.00       111\n",
      "          25       0.92      0.85      0.89       279\n",
      "          26       0.00      0.00      0.00        15\n",
      "          27       0.00      0.00      0.00       368\n",
      "          29       0.00      0.00      0.00        11\n",
      "          30       0.00      0.00      0.00        38\n",
      "          31       0.00      0.00      0.00       103\n",
      "          32       0.00      0.00      0.00        88\n",
      "          33       0.01      0.00      0.01       223\n",
      "          34       0.00      0.00      0.00       182\n",
      "          35       0.82      0.82      0.82       215\n",
      "          36       0.75      0.95      0.84       480\n",
      "          37       0.00      0.00      0.00       123\n",
      "          38       0.00      0.00      0.00       105\n",
      "          39       0.00      0.00      0.00        36\n",
      "          40       0.00      0.00      0.00         6\n",
      "          41       0.29      0.60      0.39        57\n",
      "          42       0.00      0.00      0.00        96\n",
      "          43       0.00      0.00      0.00        99\n",
      "          44       0.00      0.00      0.00        16\n",
      "          45       0.00      0.00      0.00        56\n",
      "          46       0.80      1.00      0.89       977\n",
      "          47       0.00      0.00      0.00        72\n",
      "          48       0.00      0.00      0.00        56\n",
      "          49       0.00      0.00      0.00         1\n",
      "          50       0.00      0.00      0.00        11\n",
      "          51       0.00      0.00      0.00        79\n",
      "          52       0.00      0.00      0.00        30\n",
      "          53       0.00      0.00      0.00        11\n",
      "          54       0.00      0.00      0.00         2\n",
      "          55       0.00      0.00      0.00        46\n",
      "          56       0.77      0.24      0.37       559\n",
      "          57       0.45      0.97      0.62       426\n",
      "          58       0.00      0.00      0.00         4\n",
      "          59       0.00      0.00      0.00        35\n",
      "          60       0.00      0.00      0.00        18\n",
      "          61       0.00      0.00      0.00        27\n",
      "          62       0.00      0.00      0.00       134\n",
      "          63       0.00      0.00      0.00        12\n",
      "\n",
      "    accuracy                           0.48      7941\n",
      "   macro avg       0.12      0.14      0.12      7941\n",
      "weighted avg       0.43      0.48      0.43      7941\n",
      "\n"
     ]
    },
    {
     "name": "stderr",
     "output_type": "stream",
     "text": [
      "/opt/conda/lib/python3.10/site-packages/sklearn/metrics/_classification.py:1344: UndefinedMetricWarning: Precision and F-score are ill-defined and being set to 0.0 in labels with no predicted samples. Use `zero_division` parameter to control this behavior.\n",
      "  _warn_prf(average, modifier, msg_start, len(result))\n",
      "/opt/conda/lib/python3.10/site-packages/sklearn/metrics/_classification.py:1344: UndefinedMetricWarning: Precision and F-score are ill-defined and being set to 0.0 in labels with no predicted samples. Use `zero_division` parameter to control this behavior.\n",
      "  _warn_prf(average, modifier, msg_start, len(result))\n",
      "/opt/conda/lib/python3.10/site-packages/sklearn/metrics/_classification.py:1344: UndefinedMetricWarning: Precision and F-score are ill-defined and being set to 0.0 in labels with no predicted samples. Use `zero_division` parameter to control this behavior.\n",
      "  _warn_prf(average, modifier, msg_start, len(result))\n"
     ]
    }
   ],
   "source": [
    "from sklearn.model_selection import KFold\n",
    "from torch.utils.data import Subset\n",
    "\n",
    "optimizer = optim.Adam(model.parameters(), lr=3e-5)\n",
    "\n",
    "scheduler = torch.optim.lr_scheduler.ReduceLROnPlateau(optimizer, mode='max', factor=0.1,\n",
    "                                                       patience=2, verbose=True)\n",
    "\n",
    "\n",
    "# define number of splits for k-fold Cross Validation\n",
    "num_splits = 4\n",
    "\n",
    "# create indices for k-fold cross validation\n",
    "kfold = KFold(n_splits=num_splits, shuffle=True)\n",
    "\n",
    "fold_datasets = []\n",
    "\n",
    "for fold, (train_indices, test_indices) in enumerate(kfold.split(df_dataset)):\n",
    "    train_data = Subset(df_dataset, train_indices)\n",
    "    test_data = Subset(df_dataset, test_indices)\n",
    "    fold_datasets.append((train_data, test_data))\n",
    "\n",
    "\n",
    "for fold, (train_data, test_data) in enumerate(fold_datasets):\n",
    "\n",
    "    model.classifier.reset_parameters()\n",
    "\n",
    "    train_loader = torch.utils.data.DataLoader(train_data, batch_size=16)\n",
    "    test_loader = torch.utils.data.DataLoader(test_data, batch_size=32)\n",
    "    # train the model for current fold\n",
    "    print(f\"Training on fold {fold + 1}...\")\n",
    "    for epoch in range(5):\n",
    "        print(f\"   Epoch {epoch + 1}...\")\n",
    "        running_loss = 0.0\n",
    "        for inputs, attention_mask, labels in train_loader:\n",
    "            inputs, attention_mask, labels = inputs.to(device), attention_mask.to(device), labels.to(device)\n",
    "            optimizer.zero_grad()\n",
    "            outputs = model(inputs, attention_mask=attention_mask, labels=labels)\n",
    "            loss = outputs.loss\n",
    "            logits = outputs.logits\n",
    "            loss.backward()\n",
    "            torch.nn.utils.clip_grad_norm_(model.parameters(), 1.0)\n",
    "            optimizer.step()\n",
    "            running_loss += loss.item()\n",
    "        print(f\"\\tEpoch {epoch + 1} loss: {running_loss / len(train_loader)}\")\n",
    "    \n",
    "        scheduler.step(running_loss / len(train_loader))\n",
    "    \n",
    "    # test the model for current fold\n",
    "    y_true = []\n",
    "    y_pred = []\n",
    "    with torch.no_grad():\n",
    "        for inputs, attention_mask, labels in test_loader:\n",
    "            inputs, attention_mask, labels = inputs.to(device), attention_mask.to(device), labels.to(device)\n",
    "            outputs = model(inputs, attention_mask=attention_mask)\n",
    "            _, predicted_labels = torch.max(outputs.logits, 1)\n",
    "            y_true.extend(labels.tolist())\n",
    "            y_pred.extend(predicted_labels.tolist())\n",
    "    print(f\"\\tClassification report on fold {fold + 1}:\")\n",
    "    print(classification_report(y_true, y_pred))\n"
   ]
  },
  {
   "cell_type": "code",
   "execution_count": 14,
   "metadata": {},
   "outputs": [],
   "source": [
    "# from sklearn.model_selection import KFold\n",
    "# from torch.utils.data import Subset\n",
    "# from tqdm import tqdm\n",
    "# from accelerate import Accelerator\n",
    "\n",
    "# optimizer = optim.Adam(model.parameters(), lr=3e-5)\n",
    "# accelerator = Accelerator()\n",
    "\n",
    "# scheduler = torch.optim.lr_scheduler.ReduceLROnPlateau(optimizer, mode='max', factor=0.1,\n",
    "#                                                        patience=2, verbose=True)\n",
    "\n",
    "# num_splits = 4\n",
    "\n",
    "# # k-fold cross validation\n",
    "# kfold = KFold(n_splits=num_splits, shuffle=True)\n",
    "\n",
    "# fold_datasets = []\n",
    "\n",
    "# for fold, (train_indices, test_indices) in enumerate(kfold.split(df_dataset)):\n",
    "#     train_data = Subset(df_dataset, train_indices)\n",
    "#     test_data = Subset(df_dataset, test_indices)\n",
    "#     fold_datasets.append((train_data, test_data))\n",
    "\n",
    "\n",
    "# for fold, (train_data, test_data) in enumerate(fold_datasets):\n",
    "#     train_loader = torch.utils.data.DataLoader(train_data, batch_size=16)\n",
    "#     test_loader = torch.utils.data.DataLoader(test_data, batch_size=32)\n",
    "#     model.classifier.reset_parameters()\n",
    "    \n",
    "# #     model, optimizer, data_loader, scheduler = accelerator.prepare(model, optimizer, data_loader, scheduler)\n",
    "    \n",
    "#     print(f\"Training on fold {fold + 1}...\")\n",
    "#     for epoch in range(5):\n",
    "#         running_loss = 0.0\n",
    "#         progress_bar = tqdm(enumerate(train_loader), total=len(train_loader))\n",
    "#         for step, (inputs, attention_mask, labels) in progress_bar:\n",
    "#             progress_bar.set_description(f\"Epoch {epoch+1}\")\n",
    "#             inputs, attention_mask, labels = inputs.to(device), attention_mask.to(device), labels.to(device)\n",
    "#             optimizer.zero_grad()\n",
    "#             with accelerator.autocast():\n",
    "#                 outputs = model(inputs, attention_mask=attention_mask, labels=labels)\n",
    "#                 loss = outputs.loss\n",
    "#             accelerator.backward(loss)\n",
    "#             torch.nn.utils.clip_grad_norm_(model.parameters(), 1.0)\n",
    "#             optimizer.step()\n",
    "#             running_loss += loss.item()\n",
    "#             progress_bar.set_postfix({'loss': running_loss / (step+1)})\n",
    "#         print(f\"\\tEpoch {epoch + 1} loss: {running_loss / len(train_loader)}\")\n",
    "        \n",
    "#         scheduler.step(running_loss / len(train_loader))\n",
    "    \n",
    "#     # test the model for current fold\n",
    "#     y_true = []\n",
    "#     y_pred = []\n",
    "#     model.eval()\n",
    "#     with torch.no_grad():\n",
    "#         for inputs, attention_mask, labels in test_loader:\n",
    "#             inputs, attention_mask, labels = inputs.to(device), attention_mask.to(device), labels.to(device)\n",
    "#             outputs = model(inputs, attention_mask=attention_mask)\n",
    "#             _, predicted_labels = torch.max(outputs.logits, 1)\n",
    "#             y_true.extend(labels.tolist())\n",
    "#             y_pred.extend(predicted_labels.tolist())\n",
    "#     print(f\"\\tClassification report on fold {fold + 1}:\")\n",
    "#     print(classification_report(y_true, y_pred))\n"
   ]
  },
  {
   "cell_type": "code",
   "execution_count": 14,
   "metadata": {},
   "outputs": [
    {
     "data": {
      "text/plain": [
       "('rubert_multiclass_classifier/tokenizer_config.json',\n",
       " 'rubert_multiclass_classifier/special_tokens_map.json',\n",
       " 'rubert_multiclass_classifier/vocab.txt',\n",
       " 'rubert_multiclass_classifier/added_tokens.json',\n",
       " 'rubert_multiclass_classifier/tokenizer.json')"
      ]
     },
     "execution_count": 14,
     "metadata": {},
     "output_type": "execute_result"
    }
   ],
   "source": [
    "model.save_pretrained(\"rubert_multiclass_classifier\")\n",
    "tokenizer.save_pretrained(\"rubert_multiclass_classifier\")"
   ]
  },
  {
   "cell_type": "code",
   "execution_count": 15,
   "metadata": {},
   "outputs": [
    {
     "data": {
      "text/plain": [
       "device(type='cuda')"
      ]
     },
     "execution_count": 15,
     "metadata": {},
     "output_type": "execute_result"
    }
   ],
   "source": [
    "from transformers import AutoModelForSequenceClassification, AutoTokenizer\n",
    "\n",
    "model = AutoModelForSequenceClassification.from_pretrained(\"rubert_multiclass_classifier\")\n",
    "tokenizer = AutoTokenizer.from_pretrained(\"rubert_multiclass_classifier\")\n",
    "\n",
    "device = torch.device(\"cuda\" if torch.cuda.is_available() else \"cpu\")\n",
    "\n",
    "model.to(device)\n",
    "device"
   ]
  },
  {
   "cell_type": "code",
   "execution_count": 16,
   "metadata": {},
   "outputs": [
    {
     "name": "stdout",
     "output_type": "stream",
     "text": [
      "Text: Доброго времени суток. Получил схему лечения хеликобактер пилори, от врача, в виде двух антибиотиков, но везде пишут, про применение ингибиторов протонной помпы в комплексе. Так вот, насколько важно последнее, или можно ограничиться антибиотиками? \n",
      "Выписали Амоксициллин и Кларитромицин. Лечу первый раз.\n",
      "Predicted label: гастроэнтеролог\n",
      "\n",
      "Text: Здравствуйте я зделала узи мне в заключении написано. Уз-признаки участка фиброза с очаговыми изменениями правой молочной железы(ЗНО? ) Остаточных явлении Ф. К. М на фоне фиброзно жировой перестройки м\\ж . Лимфадепатия подмышечной области справа BI-RADS4 . Подскажите пожалуста это значит что Рак молочной железы\n",
      "Predicted label: хирург\n",
      "\n",
      "Text: Здравствуйте! У моей мамы закрытый оскольчатый перелом нижней трети правого бедра со смещением отломков. Была проведена операция БИОС стержнем с \n",
      "блокированием. Перед выпиской наложили неполный гипс который крепится бинтами. Скажите можно ли вместо него использовать ортез или лангету? Можно ли его периодически снимать и сгибать ногу в колене? И через сколько можно передвигаться по квартире на костылях?\n",
      "Predicted label: аллерголог-иммунолог\n",
      "\n"
     ]
    }
   ],
   "source": [
    "gast = '''Доброго времени суток. Получил схему лечения хеликобактер пилори, от врача, в виде двух антибиотиков, но везде пишут, про применение ингибиторов протонной помпы в комплексе. Так вот, насколько важно последнее, или можно ограничиться антибиотиками? \n",
    "Выписали Амоксициллин и Кларитромицин. Лечу первый раз.'''\n",
    "mamm = '''Здравствуйте я зделала узи мне в заключении написано. Уз-признаки участка фиброза с очаговыми изменениями правой молочной железы(ЗНО? ) Остаточных явлении Ф. К. М на фоне фиброзно жировой перестройки м\\ж . Лимфадепатия подмышечной области справа BI-RADS4 . Подскажите пожалуста это значит что Рак молочной железы'''\n",
    "travm = '''Здравствуйте! У моей мамы закрытый оскольчатый перелом нижней трети правого бедра со смещением отломков. Была проведена операция БИОС стержнем с \n",
    "блокированием. Перед выпиской наложили неполный гипс который крепится бинтами. Скажите можно ли вместо него использовать ортез или лангету? Можно ли его периодически снимать и сгибать ногу в колене? И через сколько можно передвигаться по квартире на костылях?'''\n",
    "\n",
    "new_texts = [gast, mamm, travm]\n",
    "new_encodings = tokenizer.batch_encode_plus(new_texts, \n",
    "                                            add_special_tokens=True, \n",
    "                                            truncation=True, \n",
    "                                            padding=\"max_length\", \n",
    "                                            max_length=128, \n",
    "                                            return_tensors=\"pt\")\n",
    "\n",
    "# Make predictions with the loaded model\n",
    "with torch.no_grad():\n",
    "    outputs = model(new_encodings[\"input_ids\"].to(device), \n",
    "                    attention_mask=new_encodings[\"attention_mask\"].to(device))\n",
    "    _, predicted_labels = torch.max(outputs.logits, 1)\n",
    "    for text, label_id in zip(new_texts, predicted_labels.tolist()):\n",
    "        label = id2label[label_id]\n",
    "        print(f\"Text: {text}\")\n",
    "        print(f\"Predicted label: {label}\", end='\\n\\n')"
   ]
  },
  {
   "cell_type": "code",
   "execution_count": null,
   "metadata": {},
   "outputs": [],
   "source": []
  }
 ],
 "metadata": {
  "colab": {
   "provenance": []
  },
  "kernelspec": {
   "display_name": "Python 3 (ipykernel)",
   "language": "python",
   "name": "python3"
  },
  "language_info": {
   "codemirror_mode": {
    "name": "ipython",
    "version": 3
   },
   "file_extension": ".py",
   "mimetype": "text/x-python",
   "name": "python",
   "nbconvert_exporter": "python",
   "pygments_lexer": "ipython3",
   "version": "3.10.8"
  }
 },
 "nbformat": 4,
 "nbformat_minor": 1
}
